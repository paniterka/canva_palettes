{
 "cells": [
  {
   "cell_type": "markdown",
   "id": "1e4a7330",
   "metadata": {},
   "source": [
    "Canva color pallettes: \n",
    "http://policyviz.com/wp-content/uploads/2017/01/ExcelColorPalettes.zip \n",
    "\n",
    "https://policyviz.com/2017/01/12/150-color-palettes-for-excel/"
   ]
  },
  {
   "cell_type": "code",
   "execution_count": 1,
   "id": "ecb87886",
   "metadata": {},
   "outputs": [],
   "source": [
    "import xml.etree.ElementTree as ET\n",
    "import zipfile\n",
    "import io\n",
    "\n",
    "import json"
   ]
  },
  {
   "cell_type": "code",
   "execution_count": 2,
   "id": "54f42ebb",
   "metadata": {},
   "outputs": [],
   "source": [
    "def parse_xml_to_stripped_tree(zf, file):\n",
    "    \"\"\"\n",
    "    open the file from the zip object zf and strip the namespace; return root \n",
    "    \"\"\"\n",
    "    # https://stackoverflow.com/a/33997423\n",
    "    with zf.open(file) as f:\n",
    "        s = f.read()\n",
    "\n",
    "    it = ET.iterparse(io.StringIO(s.decode('utf-8')))\n",
    "    for _, el in it:\n",
    "        if '}' in el.tag:\n",
    "            el.tag = el.tag.split('}', 1)[1]  # strip all namespaces\n",
    "        for at in list(el.attrib.keys()): # strip namespaces of attributes too\n",
    "            if '}' in at:\n",
    "                newat = at.split('}', 1)[1]\n",
    "                el.attrib[newat] = el.attrib[at]\n",
    "                del el.attrib[at]\n",
    "    root = it.root\n",
    "    return root "
   ]
  },
  {
   "cell_type": "code",
   "execution_count": 3,
   "id": "031fd20d",
   "metadata": {},
   "outputs": [],
   "source": [
    "def extract_colors_from_root(root):\n",
    "    extracted_colors = []\n",
    "    for elem in root:\n",
    "        for c in elem:\n",
    "            if c.tag==\"srgbClr\":\n",
    "                col_dict = {}\n",
    "                col_dict['tag'] = elem.tag\n",
    "                c_val = c.attrib['val']\n",
    "\n",
    "                # sanitize the hex color\n",
    "                if c_val[0]!='#':\n",
    "                    c_val = '#'+c_val\n",
    "                c_val = c_val.strip().lower() \n",
    "\n",
    "                col_dict['val'] = c_val \n",
    "                extracted_colors.append(col_dict)\n",
    "    return extracted_colors"
   ]
  },
  {
   "cell_type": "code",
   "execution_count": 4,
   "id": "aca1973b",
   "metadata": {},
   "outputs": [],
   "source": [
    "def xml_to_color_dict(zf, file):\n",
    "    root = parse_xml_to_stripped_tree(zf, file)\n",
    "\n",
    "    pal_name = root.attrib['name'].strip()\n",
    "\n",
    "    extracted_colors = extract_colors_from_root(root)\n",
    "    hex_colorlist = [c['val'] for c in extracted_colors]\n",
    "    \n",
    "    four_selected_tags = ['accent{}'.format(x) for x in [1,2,3,4]]    \n",
    "    hex_colorlist_four = [c['val'] for c in extracted_colors if c['tag'] in four_selected_tags]    \n",
    "\n",
    "    pal_dict = {}\n",
    "    pal_dict['palette'] = pal_name\n",
    "    pal_dict['palette_camel'] = ''.join([x.replace('-','').title() for x in pal_name.split(' ')])\n",
    "    pal_dict['extracted_colors'] = extracted_colors\n",
    "    pal_dict['hex_colors'] = hex_colorlist\n",
    "    pal_dict['hex_colors4'] = hex_colorlist_four\n",
    "\n",
    "    return pal_dict"
   ]
  },
  {
   "cell_type": "code",
   "execution_count": 5,
   "id": "b6ac6f04",
   "metadata": {},
   "outputs": [],
   "source": [
    "zf = zipfile.ZipFile('ExcelColorPalettes.zip', 'r')\n",
    "xml_files = []\n",
    "for name in zf.namelist():\n",
    "    if all([name.startswith('ExcelColorPalettes'), \n",
    "            name.endswith('.xml'), \n",
    "            (name!='ExcelColorPalettes/lean gradient and fresh blues.xml')]): \n",
    "        xml_files.append(name)"
   ]
  },
  {
   "cell_type": "code",
   "execution_count": 6,
   "id": "82596697",
   "metadata": {},
   "outputs": [],
   "source": [
    "palette_dict = {}\n",
    "for i,t in enumerate(xml_files):\n",
    "    pd = xml_to_color_dict(zf, t)\n",
    "    pd['id'] = i\n",
    "    palette_dict[pd['palette_camel']] = pd"
   ]
  },
  {
   "cell_type": "code",
   "execution_count": 7,
   "id": "d448f756",
   "metadata": {},
   "outputs": [],
   "source": [
    "# corrections \n",
    "color_corrections = \\\n",
    "[{'palette_camel': 'ClassicMetallics', \n",
    "  'corrections': {'#80706': '#080706'}\n",
    " }, \n",
    " {'palette_camel': 'CleanGradientAndFreshBlues', \n",
    "  'corrections': {'#15249': '#015249'}\n",
    " }, \n",
    " {'palette_camel': 'PrimaryColorsWithAVibrantTwist', \n",
    "  'corrections': {'#00445': '#fb6542'}\n",
    " }, \n",
    " {'palette_camel': 'WateryBluegreens', \n",
    "  'corrections': {'#00445': '#004445'}\n",
    " },     \n",
    "  {'palette_camel': 'ElegantAndSophisticated', \n",
    "  'corrections': {'#0b83c5d':'#0b3c5d'}\n",
    " }, \n",
    " \n",
    "]\n"
   ]
  },
  {
   "cell_type": "code",
   "execution_count": 8,
   "id": "35fc242c",
   "metadata": {},
   "outputs": [],
   "source": [
    "# hex_colors = palette_dict[corr['palette_camel']]['hex_colors']\n",
    "# hex_colors = [corr['corrections'][c] if (c in corr['corrections'].keys()) else c for c in hex_colors]\n",
    "# palette_dict[corr['palette_camel']]['hex_colors'] = hex_colors"
   ]
  },
  {
   "cell_type": "code",
   "execution_count": 9,
   "id": "c7cc7600",
   "metadata": {},
   "outputs": [],
   "source": [
    "def correct_entry(palette_camel, colors_list_key):\n",
    "    tmp_colors = palette_dict[palette_camel][colors_list_key]\n",
    "    tmp_colors = [corr['corrections'][c] if (c in corr['corrections'].keys()) else c for c in tmp_colors]\n",
    "    palette_dict[palette_camel][colors_list_key] = tmp_colors\n",
    "    print(palette_dict[palette_camel])"
   ]
  },
  {
   "cell_type": "code",
   "execution_count": 10,
   "id": "b186dd1f",
   "metadata": {},
   "outputs": [
    {
     "name": "stdout",
     "output_type": "stream",
     "text": [
      "{'palette_camel': 'ClassicMetallics', 'corrections': {'#80706': '#080706'}}\n",
      "{'palette': 'Classic metallics', 'palette_camel': 'ClassicMetallics', 'extracted_colors': [{'tag': 'dk2', 'val': '#1f497d'}, {'tag': 'lt2', 'val': '#eeece1'}, {'tag': 'accent1', 'val': '#80706'}, {'tag': 'accent2', 'val': '#efefef'}, {'tag': 'accent3', 'val': '#d1b280'}, {'tag': 'accent4', 'val': '#594d46'}, {'tag': 'accent5', 'val': '#000000'}, {'tag': 'accent6', 'val': '#8a8a8a'}, {'tag': 'hlink', 'val': '#0096d2'}, {'tag': 'folHlink', 'val': '#00578b'}], 'hex_colors': ['#1f497d', '#eeece1', '#80706', '#efefef', '#d1b280', '#594d46', '#000000', '#8a8a8a', '#0096d2', '#00578b'], 'hex_colors4': ['#080706', '#efefef', '#d1b280', '#594d46'], 'id': 27}\n",
      "{'palette': 'Classic metallics', 'palette_camel': 'ClassicMetallics', 'extracted_colors': [{'tag': 'dk2', 'val': '#1f497d'}, {'tag': 'lt2', 'val': '#eeece1'}, {'tag': 'accent1', 'val': '#80706'}, {'tag': 'accent2', 'val': '#efefef'}, {'tag': 'accent3', 'val': '#d1b280'}, {'tag': 'accent4', 'val': '#594d46'}, {'tag': 'accent5', 'val': '#000000'}, {'tag': 'accent6', 'val': '#8a8a8a'}, {'tag': 'hlink', 'val': '#0096d2'}, {'tag': 'folHlink', 'val': '#00578b'}], 'hex_colors': ['#1f497d', '#eeece1', '#080706', '#efefef', '#d1b280', '#594d46', '#000000', '#8a8a8a', '#0096d2', '#00578b'], 'hex_colors4': ['#080706', '#efefef', '#d1b280', '#594d46'], 'id': 27}\n",
      "\n",
      "\n",
      "{'palette_camel': 'CleanGradientAndFreshBlues', 'corrections': {'#15249': '#015249'}}\n",
      "{'palette': 'Clean gradient and fresh blues', 'palette_camel': 'CleanGradientAndFreshBlues', 'extracted_colors': [{'tag': 'dk2', 'val': '#1f497d'}, {'tag': 'lt2', 'val': '#eeece1'}, {'tag': 'accent1', 'val': '#77c9d4'}, {'tag': 'accent2', 'val': '#57bc90'}, {'tag': 'accent3', 'val': '#15249'}, {'tag': 'accent4', 'val': '#a5a5af'}, {'tag': 'accent5', 'val': '#000000'}, {'tag': 'accent6', 'val': '#8a8a8a'}, {'tag': 'hlink', 'val': '#0096d2'}, {'tag': 'folHlink', 'val': '#00578b'}], 'hex_colors': ['#1f497d', '#eeece1', '#77c9d4', '#57bc90', '#15249', '#a5a5af', '#000000', '#8a8a8a', '#0096d2', '#00578b'], 'hex_colors4': ['#77c9d4', '#57bc90', '#015249', '#a5a5af'], 'id': 32}\n",
      "{'palette': 'Clean gradient and fresh blues', 'palette_camel': 'CleanGradientAndFreshBlues', 'extracted_colors': [{'tag': 'dk2', 'val': '#1f497d'}, {'tag': 'lt2', 'val': '#eeece1'}, {'tag': 'accent1', 'val': '#77c9d4'}, {'tag': 'accent2', 'val': '#57bc90'}, {'tag': 'accent3', 'val': '#15249'}, {'tag': 'accent4', 'val': '#a5a5af'}, {'tag': 'accent5', 'val': '#000000'}, {'tag': 'accent6', 'val': '#8a8a8a'}, {'tag': 'hlink', 'val': '#0096d2'}, {'tag': 'folHlink', 'val': '#00578b'}], 'hex_colors': ['#1f497d', '#eeece1', '#77c9d4', '#57bc90', '#015249', '#a5a5af', '#000000', '#8a8a8a', '#0096d2', '#00578b'], 'hex_colors4': ['#77c9d4', '#57bc90', '#015249', '#a5a5af'], 'id': 32}\n",
      "\n",
      "\n",
      "{'palette_camel': 'PrimaryColorsWithAVibrantTwist', 'corrections': {'#00445': '#fb6542'}}\n",
      "{'palette': 'Primary colors with a vibrant twist', 'palette_camel': 'PrimaryColorsWithAVibrantTwist', 'extracted_colors': [{'tag': 'dk2', 'val': '#1f497d'}, {'tag': 'lt2', 'val': '#eeece1'}, {'tag': 'accent1', 'val': '#375e97'}, {'tag': 'accent2', 'val': '#00445'}, {'tag': 'accent3', 'val': '#ffbb00'}, {'tag': 'accent4', 'val': '#3f681c'}, {'tag': 'accent5', 'val': '#000000'}, {'tag': 'accent6', 'val': '#8a8a8a'}, {'tag': 'hlink', 'val': '#0096d2'}, {'tag': 'folHlink', 'val': '#00578b'}], 'hex_colors': ['#1f497d', '#eeece1', '#375e97', '#00445', '#ffbb00', '#3f681c', '#000000', '#8a8a8a', '#0096d2', '#00578b'], 'hex_colors4': ['#375e97', '#fb6542', '#ffbb00', '#3f681c'], 'id': 95}\n",
      "{'palette': 'Primary colors with a vibrant twist', 'palette_camel': 'PrimaryColorsWithAVibrantTwist', 'extracted_colors': [{'tag': 'dk2', 'val': '#1f497d'}, {'tag': 'lt2', 'val': '#eeece1'}, {'tag': 'accent1', 'val': '#375e97'}, {'tag': 'accent2', 'val': '#00445'}, {'tag': 'accent3', 'val': '#ffbb00'}, {'tag': 'accent4', 'val': '#3f681c'}, {'tag': 'accent5', 'val': '#000000'}, {'tag': 'accent6', 'val': '#8a8a8a'}, {'tag': 'hlink', 'val': '#0096d2'}, {'tag': 'folHlink', 'val': '#00578b'}], 'hex_colors': ['#1f497d', '#eeece1', '#375e97', '#fb6542', '#ffbb00', '#3f681c', '#000000', '#8a8a8a', '#0096d2', '#00578b'], 'hex_colors4': ['#375e97', '#fb6542', '#ffbb00', '#3f681c'], 'id': 95}\n",
      "\n",
      "\n",
      "{'palette_camel': 'WateryBluegreens', 'corrections': {'#00445': '#004445'}}\n",
      "{'palette': 'Watery blue-greens', 'palette_camel': 'WateryBluegreens', 'extracted_colors': [{'tag': 'dk2', 'val': '#1f497d'}, {'tag': 'lt2', 'val': '#eeece1'}, {'tag': 'accent1', 'val': '#021c1e'}, {'tag': 'accent2', 'val': '#00445'}, {'tag': 'accent3', 'val': '#2c7873'}, {'tag': 'accent4', 'val': '#6fb98f'}, {'tag': 'accent5', 'val': '#000000'}, {'tag': 'accent6', 'val': '#8a8a8a'}, {'tag': 'hlink', 'val': '#0096d2'}, {'tag': 'folHlink', 'val': '#00578b'}], 'hex_colors': ['#1f497d', '#eeece1', '#021c1e', '#00445', '#2c7873', '#6fb98f', '#000000', '#8a8a8a', '#0096d2', '#00578b'], 'hex_colors4': ['#021c1e', '#004445', '#2c7873', '#6fb98f'], 'id': 147}\n",
      "{'palette': 'Watery blue-greens', 'palette_camel': 'WateryBluegreens', 'extracted_colors': [{'tag': 'dk2', 'val': '#1f497d'}, {'tag': 'lt2', 'val': '#eeece1'}, {'tag': 'accent1', 'val': '#021c1e'}, {'tag': 'accent2', 'val': '#00445'}, {'tag': 'accent3', 'val': '#2c7873'}, {'tag': 'accent4', 'val': '#6fb98f'}, {'tag': 'accent5', 'val': '#000000'}, {'tag': 'accent6', 'val': '#8a8a8a'}, {'tag': 'hlink', 'val': '#0096d2'}, {'tag': 'folHlink', 'val': '#00578b'}], 'hex_colors': ['#1f497d', '#eeece1', '#021c1e', '#004445', '#2c7873', '#6fb98f', '#000000', '#8a8a8a', '#0096d2', '#00578b'], 'hex_colors4': ['#021c1e', '#004445', '#2c7873', '#6fb98f'], 'id': 147}\n",
      "\n",
      "\n",
      "{'palette_camel': 'ElegantAndSophisticated', 'corrections': {'#0b83c5d': '#0b3c5d'}}\n",
      "{'palette': 'Elegant and sophisticated', 'palette_camel': 'ElegantAndSophisticated', 'extracted_colors': [{'tag': 'dk2', 'val': '#1f497d'}, {'tag': 'lt2', 'val': '#eeece1'}, {'tag': 'accent1', 'val': '#0b83c5d'}, {'tag': 'accent2', 'val': '#328cc1'}, {'tag': 'accent3', 'val': '#d9b310'}, {'tag': 'accent4', 'val': '#1d2731'}, {'tag': 'accent5', 'val': '#000000'}, {'tag': 'accent6', 'val': '#8a8a8a'}, {'tag': 'hlink', 'val': '#0096d2'}, {'tag': 'folHlink', 'val': '#00578b'}], 'hex_colors': ['#1f497d', '#eeece1', '#0b83c5d', '#328cc1', '#d9b310', '#1d2731', '#000000', '#8a8a8a', '#0096d2', '#00578b'], 'hex_colors4': ['#0b3c5d', '#328cc1', '#d9b310', '#1d2731'], 'id': 49}\n",
      "{'palette': 'Elegant and sophisticated', 'palette_camel': 'ElegantAndSophisticated', 'extracted_colors': [{'tag': 'dk2', 'val': '#1f497d'}, {'tag': 'lt2', 'val': '#eeece1'}, {'tag': 'accent1', 'val': '#0b83c5d'}, {'tag': 'accent2', 'val': '#328cc1'}, {'tag': 'accent3', 'val': '#d9b310'}, {'tag': 'accent4', 'val': '#1d2731'}, {'tag': 'accent5', 'val': '#000000'}, {'tag': 'accent6', 'val': '#8a8a8a'}, {'tag': 'hlink', 'val': '#0096d2'}, {'tag': 'folHlink', 'val': '#00578b'}], 'hex_colors': ['#1f497d', '#eeece1', '#0b3c5d', '#328cc1', '#d9b310', '#1d2731', '#000000', '#8a8a8a', '#0096d2', '#00578b'], 'hex_colors4': ['#0b3c5d', '#328cc1', '#d9b310', '#1d2731'], 'id': 49}\n",
      "\n",
      "\n"
     ]
    }
   ],
   "source": [
    "for corr in color_corrections: \n",
    "    print(corr)\n",
    "    for k in ['hex_colors4', 'hex_colors']:\n",
    "        correct_entry(corr['palette_camel'], k)\n",
    "    print('\\n')"
   ]
  },
  {
   "cell_type": "code",
   "execution_count": 11,
   "id": "3c756ff2",
   "metadata": {},
   "outputs": [],
   "source": [
    "palette_json = list(palette_dict.values())"
   ]
  },
  {
   "cell_type": "code",
   "execution_count": 12,
   "id": "924fea35",
   "metadata": {},
   "outputs": [],
   "source": [
    "with open('canva_palettes.json', 'w') as f:\n",
    "    js = json.dumps(palette_json)\n",
    "    f.write(js)"
   ]
  }
 ],
 "metadata": {
  "hide_input": false,
  "kernelspec": {
   "display_name": "Python 3 (ipykernel)",
   "language": "python",
   "name": "python3"
  },
  "language_info": {
   "codemirror_mode": {
    "name": "ipython",
    "version": 3
   },
   "file_extension": ".py",
   "mimetype": "text/x-python",
   "name": "python",
   "nbconvert_exporter": "python",
   "pygments_lexer": "ipython3",
   "version": "3.8.10"
  }
 },
 "nbformat": 4,
 "nbformat_minor": 5
}
