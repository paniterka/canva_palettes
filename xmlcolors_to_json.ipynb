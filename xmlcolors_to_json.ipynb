{
 "cells": [
  {
   "cell_type": "markdown",
   "id": "0efd6eaa",
   "metadata": {},
   "source": [
    "Canva color pallettes: \n",
    "http://policyviz.com/wp-content/uploads/2017/01/ExcelColorPalettes.zip \n",
    "\n",
    "https://policyviz.com/2017/01/12/150-color-palettes-for-excel/"
   ]
  },
  {
   "cell_type": "code",
   "execution_count": 42,
   "id": "4e5c9ffb",
   "metadata": {},
   "outputs": [],
   "source": [
    "import xml.etree.ElementTree as ET\n",
    "import zipfile\n",
    "import io\n",
    "\n",
    "import json"
   ]
  },
  {
   "cell_type": "code",
   "execution_count": 43,
   "id": "c398f9c5",
   "metadata": {},
   "outputs": [],
   "source": [
    "def parse_xml_to_stripped_tree(zf, file):\n",
    "    \"\"\"\n",
    "    open the file from the zip object zf and strip the namespace; return root \n",
    "    \"\"\"\n",
    "    # https://stackoverflow.com/a/33997423\n",
    "    with zf.open(file) as f:\n",
    "        s = f.read()\n",
    "\n",
    "    it = ET.iterparse(io.StringIO(s.decode('utf-8')))\n",
    "    for _, el in it:\n",
    "        if '}' in el.tag:\n",
    "            el.tag = el.tag.split('}', 1)[1]  # strip all namespaces\n",
    "        for at in list(el.attrib.keys()): # strip namespaces of attributes too\n",
    "            if '}' in at:\n",
    "                newat = at.split('}', 1)[1]\n",
    "                el.attrib[newat] = el.attrib[at]\n",
    "                del el.attrib[at]\n",
    "    root = it.root\n",
    "    return root "
   ]
  },
  {
   "cell_type": "code",
   "execution_count": 44,
   "id": "719a28c0",
   "metadata": {},
   "outputs": [],
   "source": [
    "def extract_colors_from_root(root):\n",
    "    extracted_colors = []\n",
    "    for elem in root:\n",
    "        for c in elem:\n",
    "            if c.tag==\"srgbClr\":\n",
    "                col_dict = {}\n",
    "                col_dict['tag'] = elem.tag\n",
    "                c_val = c.attrib['val']\n",
    "\n",
    "                # sanitize the hex color\n",
    "                if c_val[0]!='#':\n",
    "                    c_val = '#'+c_val\n",
    "                c_val = c_val.strip().lower() \n",
    "\n",
    "                col_dict['val'] = c_val \n",
    "                extracted_colors.append(col_dict)\n",
    "    return extracted_colors"
   ]
  },
  {
   "cell_type": "code",
   "execution_count": 45,
   "id": "c6490957",
   "metadata": {},
   "outputs": [],
   "source": [
    "def xml_to_color_dict(zf, file):\n",
    "    root = parse_xml_to_stripped_tree(zf, file)\n",
    "\n",
    "    pal_name = root.attrib['name'].strip()\n",
    "\n",
    "    extracted_colors = extract_colors_from_root(root)\n",
    "    hex_colorlist = [c['val'] for c in extracted_colors]\n",
    "    \n",
    "    four_selected_tags = ['accent{}'.format(x) for x in [1,2,3,4]]    \n",
    "    hex_colorlist_four = [c['val'] for c in extracted_colors if c['tag'] in four_selected_tags]    \n",
    "\n",
    "    pal_dict = {}\n",
    "    pal_dict['palette'] = pal_name\n",
    "    pal_dict['palette_camel'] = ''.join([x.replace('-','').title() for x in pal_name.split(' ')])\n",
    "    pal_dict['extracted_colors'] = extracted_colors\n",
    "    pal_dict['hex_colors'] = hex_colorlist\n",
    "    pal_dict['hex_colors4'] = hex_colorlist_four\n",
    "\n",
    "    return pal_dict"
   ]
  },
  {
   "cell_type": "code",
   "execution_count": 46,
   "id": "d85e0ef6",
   "metadata": {},
   "outputs": [],
   "source": [
    "zf = zipfile.ZipFile('ExcelColorPalettes.zip', 'r')\n",
    "xml_files = []\n",
    "for name in zf.namelist():\n",
    "    if all([name.startswith('ExcelColorPalettes'), \n",
    "            name.endswith('.xml'), \n",
    "            (name!='ExcelColorPalettes/lean gradient and fresh blues.xml')]): \n",
    "        xml_files.append(name)"
   ]
  },
  {
   "cell_type": "code",
   "execution_count": 52,
   "id": "8b113cd4",
   "metadata": {},
   "outputs": [],
   "source": [
    "palette_dict = {}\n",
    "for t in xml_files:\n",
    "    pd = xml_to_color_dict(zf, t)\n",
    "    palette_dict[pd['palette']] = pd"
   ]
  },
  {
   "cell_type": "code",
   "execution_count": 57,
   "id": "61e6b6f8",
   "metadata": {},
   "outputs": [],
   "source": [
    "# corrections \n",
    "color_corrections = \\\n",
    "[{'palette_camel': 'ClassicMetallics', \n",
    "  'corrections': [{'#80706': '#080706'}]\n",
    " }, \n",
    " {'palette_camel': 'CleanGradientAndFreshBlues', \n",
    "  'corrections': [{'#15249': '#015249'}]\n",
    " }, \n",
    " {'palette_camel': 'PrimaryColorsWithAVibrantTwist', \n",
    "  'corrections': [{'#00445': '#fb6542'}]\n",
    " }, \n",
    " {'palette_camel': 'WateryBluegreens', \n",
    "  'corrections': [{'#00445': '#004445'}]\n",
    " },     \n",
    "]\n"
   ]
  },
  {
   "cell_type": "code",
   "execution_count": null,
   "id": "ac5ce3b3",
   "metadata": {},
   "outputs": [],
   "source": [
    "# here do the corrections in `palette_dict`"
   ]
  },
  {
   "cell_type": "code",
   "execution_count": 56,
   "id": "f9087b04",
   "metadata": {},
   "outputs": [],
   "source": [
    "palette_json = list(palette_dict.values())"
   ]
  },
  {
   "cell_type": "code",
   "execution_count": 22,
   "id": "4bca8507",
   "metadata": {},
   "outputs": [],
   "source": [
    "with open('canva_palletes.json', 'w') as f:\n",
    "    js = json.dumps(pallette_json)\n",
    "    f.write(js)"
   ]
  }
 ],
 "metadata": {
  "hide_input": false,
  "kernelspec": {
   "display_name": "Python 3 (ipykernel)",
   "language": "python",
   "name": "python3"
  },
  "language_info": {
   "codemirror_mode": {
    "name": "ipython",
    "version": 3
   },
   "file_extension": ".py",
   "mimetype": "text/x-python",
   "name": "python",
   "nbconvert_exporter": "python",
   "pygments_lexer": "ipython3",
   "version": "3.8.10"
  }
 },
 "nbformat": 4,
 "nbformat_minor": 5
}
