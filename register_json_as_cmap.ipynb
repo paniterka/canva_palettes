{
 "cells": [
  {
   "cell_type": "code",
   "execution_count": 1,
   "id": "91f34be7",
   "metadata": {},
   "outputs": [],
   "source": [
    "# import matplotlib as mpl\n",
    "# import matplotlib.pyplot as plt"
   ]
  },
  {
   "cell_type": "code",
   "execution_count": 2,
   "id": "dff1fcfb",
   "metadata": {},
   "outputs": [],
   "source": [
    "from matplotlib.colors import ListedColormap\n",
    "from matplotlib.colors import LinearSegmentedColormap\n",
    "\n",
    "import json"
   ]
  },
  {
   "cell_type": "code",
   "execution_count": 97,
   "id": "1651ea6b",
   "metadata": {},
   "outputs": [],
   "source": [
    "with open('canva_palletes.json', 'r') as f: \n",
    "    canva_json = json.load(f)"
   ]
  },
  {
   "cell_type": "code",
   "execution_count": 98,
   "id": "942d9bf3",
   "metadata": {},
   "outputs": [
    {
     "name": "stdout",
     "output_type": "stream",
     "text": [
      "1950s kitchen,   Antique and clean,   Antique tones,   Aqua blues,   Art history inspired,   Artic sunrise,   Autumn in vermont,   Autumn oranges and complemtentary neutrals,   Back to school,   Berry blues,   Beyond black and white,   Birds and berries,   Bold and basic,   Bold and cultured,   Bold and punchy,   Bold berries,   Bold blacks and vibrand highlights,   Bold feature colors,   Bright and painterly,   Bright and tropical,   Candy coated brights,   Cheerful and friendly,   Cheerful and sleek,   Cheerful blues and pink,   Cheerful brights,   Chocolaty browns,   City sights,   Classic metallics,   Classy and timeless,   Clean and collegiate,   Clean and crisp,   Clean and highlighted,   Clean gradient and fresh blues,   Coastal,   Colorful without clashing,   Cool and calm,   Cool blues,   Cool jewel tones,   Cool vs warm,   Corporate and sleek,   Cosmopolitan,   Cozy and warm,   Crisp and dramatic,   Crisp complementary colors,   Dark and earthy,   Dark and handsome,   Day and night,   Distintive and unexpected,   Earthy and fresh,   Elegant and sophisticated,   Exotic and high impact,   Fresh and bright,   Fresh and energetic,   Fresh and lively,   Fresh greens,   Fun and cheerful,   Fun and professional,   Fun and tropical,   Garden fresh,   Golden afternoon,   Grecian holiday,   Green fields,   Hazy grays,   High saturation and high energy,   Icy blues and grays,   Industrial and in control,   Jewel tones,   Clean gradient and fresh blues,   Lemonade stand,   Light and natural,   Luxurious and modern,   Maritime brights,   Mediterranean afternoon,   Misty greens,   Modern and clean,   Modern and crisp,   Modern and minimal,   Modern and muted,   Modern and urban,   Muted and antique,   Muted and minimal,   Muted tones,   Naturally elegant,   Neon and bold,   Neon night,   Neon tones and sharp contrast,   Neutral and versatile,   Nightlife,   Orange accent,   Outdoorsy and Natural,   Pastels,   Playful greens and blues,   Polished and inviting,   Pool party,   Pop art,   Pretty pastels,   Primary colors with a vibrant twist,   Professional and modern,   Professional and traditional,   Refreshing and pretty,   Retro and relaxing,   Retro inspired,   Serene and spa like,   Shabby chic neutrals,   Shades of citrus,   Shadowy and dramatic,   Sharp and modern,   Simple and fresh,   Simple but bold,   Sleek and modern,   Smoky purples,   Spicy neutrals,   Splash of color,   Stormy hues,   Strawberries and cream,   Striking and energetic,   Stylish and retro,   Subdued and professional,   Subtle and versatile,   Summer barbeque,   Summer fiesta,   Summer inspired,   Summer sunflower,   Sun and sky,   Sunkissed village,   Sunny and calm,   Sunny citrus,   Sunset to dusk,   Surf and turf,   Technology meets nature,   Timeless and nautical,   Tints and tones,   Trendy and metropolitan,   Tropical tones,   Understated and versatile,   Unexpected color combinations,   Unique and striking,   Urban living,   Urban oasis,   Vineyard neutrals,   Vintage charm,   Violet sunset,   Warm and bold,   Warm and cool,   Warm and rustic,   Warm and wonderful,   Warm naturals,   Warm tones,   Watery blue-greens,   Wintery reds\n"
     ]
    }
   ],
   "source": [
    "# list all available pallettes\n",
    "s = ',   '.join([c['pallette'] for c in canva_json])\n",
    "print(s)"
   ]
  },
  {
   "cell_type": "code",
   "execution_count": 99,
   "id": "fbf1b8e1",
   "metadata": {},
   "outputs": [
    {
     "data": {
      "text/plain": [
       "[(0, '1950s kitchen'),\n",
       " (1, 'Antique and clean'),\n",
       " (2, 'Antique tones'),\n",
       " (3, 'Aqua blues'),\n",
       " (4, 'Art history inspired'),\n",
       " (5, 'Artic sunrise'),\n",
       " (6, 'Autumn in vermont'),\n",
       " (7, 'Autumn oranges and complemtentary neutrals'),\n",
       " (8, 'Back to school'),\n",
       " (9, 'Berry blues'),\n",
       " (10, 'Beyond black and white'),\n",
       " (11, 'Birds and berries'),\n",
       " (12, 'Bold and basic'),\n",
       " (13, 'Bold and cultured'),\n",
       " (14, 'Bold and punchy'),\n",
       " (15, 'Bold berries'),\n",
       " (16, 'Bold blacks and vibrand highlights'),\n",
       " (17, 'Bold feature colors'),\n",
       " (18, 'Bright and painterly'),\n",
       " (19, 'Bright and tropical'),\n",
       " (20, 'Candy coated brights'),\n",
       " (21, 'Cheerful and friendly'),\n",
       " (22, 'Cheerful and sleek'),\n",
       " (23, 'Cheerful blues and pink'),\n",
       " (24, 'Cheerful brights'),\n",
       " (25, 'Chocolaty browns'),\n",
       " (26, 'City sights'),\n",
       " (27, 'Classic metallics'),\n",
       " (28, 'Classy and timeless'),\n",
       " (29, 'Clean and collegiate'),\n",
       " (30, 'Clean and crisp'),\n",
       " (31, 'Clean and highlighted'),\n",
       " (32, 'Clean gradient and fresh blues'),\n",
       " (33, 'Coastal'),\n",
       " (34, 'Colorful without clashing'),\n",
       " (35, 'Cool and calm'),\n",
       " (36, 'Cool blues'),\n",
       " (37, 'Cool jewel tones'),\n",
       " (38, 'Cool vs warm'),\n",
       " (39, 'Corporate and sleek'),\n",
       " (40, 'Cosmopolitan'),\n",
       " (41, 'Cozy and warm'),\n",
       " (42, 'Crisp and dramatic'),\n",
       " (43, 'Crisp complementary colors'),\n",
       " (44, 'Dark and earthy'),\n",
       " (45, 'Dark and handsome'),\n",
       " (46, 'Day and night'),\n",
       " (47, 'Distintive and unexpected'),\n",
       " (48, 'Earthy and fresh'),\n",
       " (49, 'Elegant and sophisticated'),\n",
       " (50, 'Exotic and high impact'),\n",
       " (51, 'Fresh and bright'),\n",
       " (52, 'Fresh and energetic'),\n",
       " (53, 'Fresh and lively'),\n",
       " (54, 'Fresh greens'),\n",
       " (55, 'Fun and cheerful'),\n",
       " (56, 'Fun and professional'),\n",
       " (57, 'Fun and tropical'),\n",
       " (58, 'Garden fresh'),\n",
       " (59, 'Golden afternoon'),\n",
       " (60, 'Grecian holiday'),\n",
       " (61, 'Green fields'),\n",
       " (62, 'Hazy grays'),\n",
       " (63, 'High saturation and high energy'),\n",
       " (64, 'Icy blues and grays'),\n",
       " (65, 'Industrial and in control'),\n",
       " (66, 'Jewel tones'),\n",
       " (67, 'Clean gradient and fresh blues'),\n",
       " (68, 'Lemonade stand'),\n",
       " (69, 'Light and natural'),\n",
       " (70, 'Luxurious and modern'),\n",
       " (71, 'Maritime brights'),\n",
       " (72, 'Mediterranean afternoon'),\n",
       " (73, 'Misty greens'),\n",
       " (74, 'Modern and clean'),\n",
       " (75, 'Modern and crisp'),\n",
       " (76, 'Modern and minimal'),\n",
       " (77, 'Modern and muted'),\n",
       " (78, 'Modern and urban'),\n",
       " (79, 'Muted and antique'),\n",
       " (80, 'Muted and minimal'),\n",
       " (81, 'Muted tones'),\n",
       " (82, 'Naturally elegant'),\n",
       " (83, 'Neon and bold'),\n",
       " (84, 'Neon night'),\n",
       " (85, 'Neon tones and sharp contrast'),\n",
       " (86, 'Neutral and versatile'),\n",
       " (87, 'Nightlife'),\n",
       " (88, 'Orange accent'),\n",
       " (89, 'Outdoorsy and Natural'),\n",
       " (90, 'Pastels'),\n",
       " (91, 'Playful greens and blues'),\n",
       " (92, 'Polished and inviting'),\n",
       " (93, 'Pool party'),\n",
       " (94, 'Pop art'),\n",
       " (95, 'Pretty pastels'),\n",
       " (96, 'Primary colors with a vibrant twist'),\n",
       " (97, 'Professional and modern'),\n",
       " (98, 'Professional and traditional'),\n",
       " (99, 'Refreshing and pretty'),\n",
       " (100, 'Retro and relaxing'),\n",
       " (101, 'Retro inspired'),\n",
       " (102, 'Serene and spa like'),\n",
       " (103, 'Shabby chic neutrals'),\n",
       " (104, 'Shades of citrus'),\n",
       " (105, 'Shadowy and dramatic'),\n",
       " (106, 'Sharp and modern'),\n",
       " (107, 'Simple and fresh'),\n",
       " (108, 'Simple but bold'),\n",
       " (109, 'Sleek and modern'),\n",
       " (110, 'Smoky purples'),\n",
       " (111, 'Spicy neutrals'),\n",
       " (112, 'Splash of color'),\n",
       " (113, 'Stormy hues'),\n",
       " (114, 'Strawberries and cream'),\n",
       " (115, 'Striking and energetic'),\n",
       " (116, 'Stylish and retro'),\n",
       " (117, 'Subdued and professional'),\n",
       " (118, 'Subtle and versatile'),\n",
       " (119, 'Summer barbeque'),\n",
       " (120, 'Summer fiesta'),\n",
       " (121, 'Summer inspired'),\n",
       " (122, 'Summer sunflower'),\n",
       " (123, 'Sun and sky'),\n",
       " (124, 'Sunkissed village'),\n",
       " (125, 'Sunny and calm'),\n",
       " (126, 'Sunny citrus'),\n",
       " (127, 'Sunset to dusk'),\n",
       " (128, 'Surf and turf'),\n",
       " (129, 'Technology meets nature'),\n",
       " (130, 'Timeless and nautical'),\n",
       " (131, 'Tints and tones'),\n",
       " (132, 'Trendy and metropolitan'),\n",
       " (133, 'Tropical tones'),\n",
       " (134, 'Understated and versatile'),\n",
       " (135, 'Unexpected color combinations'),\n",
       " (136, 'Unique and striking'),\n",
       " (137, 'Urban living'),\n",
       " (138, 'Urban oasis'),\n",
       " (139, 'Vineyard neutrals'),\n",
       " (140, 'Vintage charm'),\n",
       " (141, 'Violet sunset'),\n",
       " (142, 'Warm and bold'),\n",
       " (143, 'Warm and cool'),\n",
       " (144, 'Warm and rustic'),\n",
       " (145, 'Warm and wonderful'),\n",
       " (146, 'Warm naturals'),\n",
       " (147, 'Warm tones'),\n",
       " (148, 'Watery blue-greens'),\n",
       " (149, 'Wintery reds')]"
      ]
     },
     "execution_count": 99,
     "metadata": {},
     "output_type": "execute_result"
    }
   ],
   "source": [
    "# list all available pallettes\n",
    "[(e, c['pallette']) for e, c in enumerate(canva_json)]"
   ]
  },
  {
   "cell_type": "code",
   "execution_count": 100,
   "id": "895d3289",
   "metadata": {},
   "outputs": [
    {
     "name": "stdout",
     "output_type": "stream",
     "text": [
      "1950SKitchen,   AntiqueAndClean,   AntiqueTones,   AquaBlues,   ArtHistoryInspired,   ArticSunrise,   AutumnInVermont,   AutumnOrangesAndComplemtentaryNeutrals,   BackToSchool,   BerryBlues,   BeyondBlackAndWhite,   BirdsAndBerries,   BoldAndBasic,   BoldAndCultured,   BoldAndPunchy,   BoldBerries,   BoldBlacksAndVibrandHighlights,   BoldFeatureColors,   BrightAndPainterly,   BrightAndTropical,   CandyCoatedBrights,   CheerfulAndFriendly,   CheerfulAndSleek,   CheerfulBluesAndPink,   CheerfulBrights,   ChocolatyBrowns,   CitySights,   ClassicMetallics,   ClassyAndTimeless,   CleanAndCollegiate,   CleanAndCrisp,   CleanAndHighlighted,   CleanGradientAndFreshBlues,   Coastal,   ColorfulWithoutClashing,   CoolAndCalm,   CoolBlues,   CoolJewelTones,   CoolVsWarm,   CorporateAndSleek,   Cosmopolitan,   CozyAndWarm,   CrispAndDramatic,   CrispComplementaryColors,   DarkAndEarthy,   DarkAndHandsome,   DayAndNight,   DistintiveAndUnexpected,   EarthyAndFresh,   ElegantAndSophisticated,   ExoticAndHighImpact,   FreshAndBright,   FreshAndEnergetic,   FreshAndLively,   FreshGreens,   FunAndCheerful,   FunAndProfessional,   FunAndTropical,   GardenFresh,   GoldenAfternoon,   GrecianHoliday,   GreenFields,   HazyGrays,   HighSaturationAndHighEnergy,   IcyBluesAndGrays,   IndustrialAndInControl,   JewelTones,   CleanGradientAndFreshBlues,   LemonadeStand,   LightAndNatural,   LuxuriousAndModern,   MaritimeBrights,   MediterraneanAfternoon,   MistyGreens,   ModernAndClean,   ModernAndCrisp,   ModernAndMinimal,   ModernAndMuted,   ModernAndUrban,   MutedAndAntique,   MutedAndMinimal,   MutedTones,   NaturallyElegant,   NeonAndBold,   NeonNight,   NeonTonesAndSharpContrast,   NeutralAndVersatile,   Nightlife,   OrangeAccent,   OutdoorsyAndNatural,   Pastels,   PlayfulGreensAndBlues,   PolishedAndInviting,   PoolParty,   PopArt,   PrettyPastels,   PrimaryColorsWithAVibrantTwist,   ProfessionalAndModern,   ProfessionalAndTraditional,   RefreshingAndPretty,   RetroAndRelaxing,   RetroInspired,   SereneAndSpaLike,   ShabbyChicNeutrals,   ShadesOfCitrus,   ShadowyAndDramatic,   SharpAndModern,   SimpleAndFresh,   SimpleButBold,   SleekAndModern,   SmokyPurples,   SpicyNeutrals,   SplashOfColor,   StormyHues,   StrawberriesAndCream,   StrikingAndEnergetic,   StylishAndRetro,   SubduedAndProfessional,   SubtleAndVersatile,   SummerBarbeque,   SummerFiesta,   SummerInspired,   SummerSunflower,   SunAndSky,   SunkissedVillage,   SunnyAndCalm,   SunnyCitrus,   SunsetToDusk,   SurfAndTurf,   TechnologyMeetsNature,   TimelessAndNautical,   TintsAndTones,   TrendyAndMetropolitan,   TropicalTones,   UnderstatedAndVersatile,   UnexpectedColorCombinations,   UniqueAndStriking,   UrbanLiving,   UrbanOasis,   VineyardNeutrals,   VintageCharm,   VioletSunset,   WarmAndBold,   WarmAndCool,   WarmAndRustic,   WarmAndWonderful,   WarmNaturals,   WarmTones,   WateryBluegreens,   WinteryReds\n"
     ]
    }
   ],
   "source": [
    "# list all available pallettes\n",
    "s = ',   '.join([c['pallette_camel'] for c in canva_json])\n",
    "print(s)"
   ]
  },
  {
   "cell_type": "code",
   "execution_count": null,
   "id": "11fdc92b",
   "metadata": {},
   "outputs": [],
   "source": [
    "# display pallette by name\n",
    "pal_name = 'Classic metallics'\n",
    "pal = [c for c in canva_json if c['pallette']==pal_name][0]\n",
    "print(pal)"
   ]
  },
  {
   "cell_type": "code",
   "execution_count": 109,
   "id": "1c79c3ff",
   "metadata": {},
   "outputs": [
    {
     "name": "stdout",
     "output_type": "stream",
     "text": [
      "{'pallette': 'Clean gradient and fresh blues', 'pallette_camel': 'CleanGradientAndFreshBlues', 'extracted_colors': [{'tag': 'dk2', 'val': '#1f497d'}, {'tag': 'lt2', 'val': '#eeece1'}, {'tag': 'accent1', 'val': '#77c9d4'}, {'tag': 'accent2', 'val': '#57bc90'}, {'tag': 'accent3', 'val': '#15249'}, {'tag': 'accent4', 'val': '#a5a5af'}, {'tag': 'accent5', 'val': '#000000'}, {'tag': 'accent6', 'val': '#8a8a8a'}, {'tag': 'hlink', 'val': '#0096d2'}, {'tag': 'folHlink', 'val': '#00578b'}], 'hex_colors': ['#1f497d', '#eeece1', '#77c9d4', '#57bc90', '#15249', '#a5a5af', '#000000', '#8a8a8a', '#0096d2', '#00578b'], 'hex_colors4': ['#77c9d4', '#57bc90', '#15249', '#a5a5af']}\n"
     ]
    }
   ],
   "source": [
    "# display pallette by name in camelcase\n",
    "pal_name = 'CleanGradientAndFreshBlues'\n",
    "pal = [c for c in canva_json if c['pallette_camel']==pal_name][0]\n",
    "print(pal)"
   ]
  },
  {
   "cell_type": "code",
   "execution_count": 82,
   "id": "3e09c583",
   "metadata": {
    "collapsed": true
   },
   "outputs": [
    {
     "name": "stdout",
     "output_type": "stream",
     "text": [
      "{'pallette': 'Classic metallics', 'pallette_camel': 'ClassicMetallics', 'extracted_colors': [{'tag': 'dk2', 'val': '#1f497d'}, {'tag': 'lt2', 'val': '#eeece1'}, {'tag': 'accent1', 'val': '#80706'}, {'tag': 'accent2', 'val': '#efefef'}, {'tag': 'accent3', 'val': '#d1b280'}, {'tag': 'accent4', 'val': '#594d46'}, {'tag': 'accent5', 'val': '#000000'}, {'tag': 'accent6', 'val': '#8a8a8a'}, {'tag': 'hlink', 'val': '#0096d2'}, {'tag': 'folHlink', 'val': '#00578b'}], 'hex_colors': ['#1f497d', '#eeece1', '#80706', '#efefef', '#d1b280', '#594d46', '#000000', '#8a8a8a', '#0096d2', '#00578b'], 'hex_colors4': ['#80706', '#efefef', '#d1b280', '#594d46']}\n"
     ]
    },
    {
     "ename": "ValueError",
     "evalue": "Invalid RGBA argument: '#80706'",
     "output_type": "error",
     "traceback": [
      "\u001b[1;31m---------------------------------------------------------------------------\u001b[0m",
      "\u001b[1;31mValueError\u001b[0m                                Traceback (most recent call last)",
      "File \u001b[1;32mC:\\APPS\\Anaconda3\\lib\\site-packages\\IPython\\core\\formatters.py:343\u001b[0m, in \u001b[0;36mBaseFormatter.__call__\u001b[1;34m(self, obj)\u001b[0m\n\u001b[0;32m    341\u001b[0m     method \u001b[38;5;241m=\u001b[39m get_real_method(obj, \u001b[38;5;28mself\u001b[39m\u001b[38;5;241m.\u001b[39mprint_method)\n\u001b[0;32m    342\u001b[0m     \u001b[38;5;28;01mif\u001b[39;00m method \u001b[38;5;129;01mis\u001b[39;00m \u001b[38;5;129;01mnot\u001b[39;00m \u001b[38;5;28;01mNone\u001b[39;00m:\n\u001b[1;32m--> 343\u001b[0m         \u001b[38;5;28;01mreturn\u001b[39;00m \u001b[43mmethod\u001b[49m\u001b[43m(\u001b[49m\u001b[43m)\u001b[49m\n\u001b[0;32m    344\u001b[0m     \u001b[38;5;28;01mreturn\u001b[39;00m \u001b[38;5;28;01mNone\u001b[39;00m\n\u001b[0;32m    345\u001b[0m \u001b[38;5;28;01melse\u001b[39;00m:\n",
      "File \u001b[1;32mC:\\APPS\\Anaconda3\\lib\\site-packages\\matplotlib\\colors.py:811\u001b[0m, in \u001b[0;36mColormap._repr_html_\u001b[1;34m(self)\u001b[0m\n\u001b[0;32m    809\u001b[0m \u001b[38;5;28;01mdef\u001b[39;00m \u001b[38;5;21m_repr_html_\u001b[39m(\u001b[38;5;28mself\u001b[39m):\n\u001b[0;32m    810\u001b[0m     \u001b[38;5;124;03m\"\"\"Generate an HTML representation of the Colormap.\"\"\"\u001b[39;00m\n\u001b[1;32m--> 811\u001b[0m     png_bytes \u001b[38;5;241m=\u001b[39m \u001b[38;5;28;43mself\u001b[39;49m\u001b[38;5;241;43m.\u001b[39;49m\u001b[43m_repr_png_\u001b[49m\u001b[43m(\u001b[49m\u001b[43m)\u001b[49m\n\u001b[0;32m    812\u001b[0m     png_base64 \u001b[38;5;241m=\u001b[39m base64\u001b[38;5;241m.\u001b[39mb64encode(png_bytes)\u001b[38;5;241m.\u001b[39mdecode(\u001b[38;5;124m'\u001b[39m\u001b[38;5;124mascii\u001b[39m\u001b[38;5;124m'\u001b[39m)\n\u001b[0;32m    813\u001b[0m     \u001b[38;5;28;01mdef\u001b[39;00m \u001b[38;5;21mcolor_block\u001b[39m(color):\n",
      "File \u001b[1;32mC:\\APPS\\Anaconda3\\lib\\site-packages\\matplotlib\\colors.py:797\u001b[0m, in \u001b[0;36mColormap._repr_png_\u001b[1;34m(self)\u001b[0m\n\u001b[0;32m    794\u001b[0m \u001b[38;5;124;03m\"\"\"Generate a PNG representation of the Colormap.\"\"\"\u001b[39;00m\n\u001b[0;32m    795\u001b[0m X \u001b[38;5;241m=\u001b[39m np\u001b[38;5;241m.\u001b[39mtile(np\u001b[38;5;241m.\u001b[39mlinspace(\u001b[38;5;241m0\u001b[39m, \u001b[38;5;241m1\u001b[39m, _REPR_PNG_SIZE[\u001b[38;5;241m0\u001b[39m]),\n\u001b[0;32m    796\u001b[0m             (_REPR_PNG_SIZE[\u001b[38;5;241m1\u001b[39m], \u001b[38;5;241m1\u001b[39m))\n\u001b[1;32m--> 797\u001b[0m pixels \u001b[38;5;241m=\u001b[39m \u001b[38;5;28;43mself\u001b[39;49m\u001b[43m(\u001b[49m\u001b[43mX\u001b[49m\u001b[43m,\u001b[49m\u001b[43m \u001b[49m\u001b[38;5;28;43mbytes\u001b[39;49m\u001b[38;5;241;43m=\u001b[39;49m\u001b[38;5;28;43;01mTrue\u001b[39;49;00m\u001b[43m)\u001b[49m\n\u001b[0;32m    798\u001b[0m png_bytes \u001b[38;5;241m=\u001b[39m io\u001b[38;5;241m.\u001b[39mBytesIO()\n\u001b[0;32m    799\u001b[0m title \u001b[38;5;241m=\u001b[39m \u001b[38;5;28mself\u001b[39m\u001b[38;5;241m.\u001b[39mname \u001b[38;5;241m+\u001b[39m \u001b[38;5;124m'\u001b[39m\u001b[38;5;124m colormap\u001b[39m\u001b[38;5;124m'\u001b[39m\n",
      "File \u001b[1;32mC:\\APPS\\Anaconda3\\lib\\site-packages\\matplotlib\\colors.py:613\u001b[0m, in \u001b[0;36mColormap.__call__\u001b[1;34m(self, X, alpha, bytes)\u001b[0m\n\u001b[0;32m    590\u001b[0m \u001b[38;5;124;03m\"\"\"\u001b[39;00m\n\u001b[0;32m    591\u001b[0m \u001b[38;5;124;03mParameters\u001b[39;00m\n\u001b[0;32m    592\u001b[0m \u001b[38;5;124;03m----------\u001b[39;00m\n\u001b[1;32m   (...)\u001b[0m\n\u001b[0;32m    610\u001b[0m \u001b[38;5;124;03mRGBA values with a shape of ``X.shape + (4, )``.\u001b[39;00m\n\u001b[0;32m    611\u001b[0m \u001b[38;5;124;03m\"\"\"\u001b[39;00m\n\u001b[0;32m    612\u001b[0m \u001b[38;5;28;01mif\u001b[39;00m \u001b[38;5;129;01mnot\u001b[39;00m \u001b[38;5;28mself\u001b[39m\u001b[38;5;241m.\u001b[39m_isinit:\n\u001b[1;32m--> 613\u001b[0m     \u001b[38;5;28;43mself\u001b[39;49m\u001b[38;5;241;43m.\u001b[39;49m\u001b[43m_init\u001b[49m\u001b[43m(\u001b[49m\u001b[43m)\u001b[49m\n\u001b[0;32m    615\u001b[0m mask_bad \u001b[38;5;241m=\u001b[39m X\u001b[38;5;241m.\u001b[39mmask \u001b[38;5;28;01mif\u001b[39;00m np\u001b[38;5;241m.\u001b[39mma\u001b[38;5;241m.\u001b[39mis_masked(X) \u001b[38;5;28;01melse\u001b[39;00m np\u001b[38;5;241m.\u001b[39misnan(X)  \u001b[38;5;66;03m# Mask nan's.\u001b[39;00m\n\u001b[0;32m    616\u001b[0m xa \u001b[38;5;241m=\u001b[39m np\u001b[38;5;241m.\u001b[39marray(X, copy\u001b[38;5;241m=\u001b[39m\u001b[38;5;28;01mTrue\u001b[39;00m)\n",
      "File \u001b[1;32mC:\\APPS\\Anaconda3\\lib\\site-packages\\matplotlib\\colors.py:1066\u001b[0m, in \u001b[0;36mListedColormap._init\u001b[1;34m(self)\u001b[0m\n\u001b[0;32m   1064\u001b[0m \u001b[38;5;28;01mdef\u001b[39;00m \u001b[38;5;21m_init\u001b[39m(\u001b[38;5;28mself\u001b[39m):\n\u001b[0;32m   1065\u001b[0m     \u001b[38;5;28mself\u001b[39m\u001b[38;5;241m.\u001b[39m_lut \u001b[38;5;241m=\u001b[39m np\u001b[38;5;241m.\u001b[39mzeros((\u001b[38;5;28mself\u001b[39m\u001b[38;5;241m.\u001b[39mN \u001b[38;5;241m+\u001b[39m \u001b[38;5;241m3\u001b[39m, \u001b[38;5;241m4\u001b[39m), \u001b[38;5;28mfloat\u001b[39m)\n\u001b[1;32m-> 1066\u001b[0m     \u001b[38;5;28mself\u001b[39m\u001b[38;5;241m.\u001b[39m_lut[:\u001b[38;5;241m-\u001b[39m\u001b[38;5;241m3\u001b[39m] \u001b[38;5;241m=\u001b[39m \u001b[43mto_rgba_array\u001b[49m\u001b[43m(\u001b[49m\u001b[38;5;28;43mself\u001b[39;49m\u001b[38;5;241;43m.\u001b[39;49m\u001b[43mcolors\u001b[49m\u001b[43m)\u001b[49m\n\u001b[0;32m   1067\u001b[0m     \u001b[38;5;28mself\u001b[39m\u001b[38;5;241m.\u001b[39m_isinit \u001b[38;5;241m=\u001b[39m \u001b[38;5;28;01mTrue\u001b[39;00m\n\u001b[0;32m   1068\u001b[0m     \u001b[38;5;28mself\u001b[39m\u001b[38;5;241m.\u001b[39m_set_extremes()\n",
      "File \u001b[1;32mC:\\APPS\\Anaconda3\\lib\\site-packages\\matplotlib\\colors.py:375\u001b[0m, in \u001b[0;36mto_rgba_array\u001b[1;34m(c, alpha)\u001b[0m\n\u001b[0;32m    373\u001b[0m         rgba \u001b[38;5;241m=\u001b[39m np\u001b[38;5;241m.\u001b[39marray(c)\n\u001b[0;32m    374\u001b[0m     \u001b[38;5;28;01melse\u001b[39;00m:\n\u001b[1;32m--> 375\u001b[0m         rgba \u001b[38;5;241m=\u001b[39m np\u001b[38;5;241m.\u001b[39marray([to_rgba(cc) \u001b[38;5;28;01mfor\u001b[39;00m cc \u001b[38;5;129;01min\u001b[39;00m c])\n\u001b[0;32m    376\u001b[0m \u001b[38;5;28;01melse\u001b[39;00m:\n\u001b[0;32m    377\u001b[0m     rgba \u001b[38;5;241m=\u001b[39m np\u001b[38;5;241m.\u001b[39marray([to_rgba(cc) \u001b[38;5;28;01mfor\u001b[39;00m cc \u001b[38;5;129;01min\u001b[39;00m c])\n",
      "File \u001b[1;32mC:\\APPS\\Anaconda3\\lib\\site-packages\\matplotlib\\colors.py:375\u001b[0m, in \u001b[0;36m<listcomp>\u001b[1;34m(.0)\u001b[0m\n\u001b[0;32m    373\u001b[0m         rgba \u001b[38;5;241m=\u001b[39m np\u001b[38;5;241m.\u001b[39marray(c)\n\u001b[0;32m    374\u001b[0m     \u001b[38;5;28;01melse\u001b[39;00m:\n\u001b[1;32m--> 375\u001b[0m         rgba \u001b[38;5;241m=\u001b[39m np\u001b[38;5;241m.\u001b[39marray([\u001b[43mto_rgba\u001b[49m\u001b[43m(\u001b[49m\u001b[43mcc\u001b[49m\u001b[43m)\u001b[49m \u001b[38;5;28;01mfor\u001b[39;00m cc \u001b[38;5;129;01min\u001b[39;00m c])\n\u001b[0;32m    376\u001b[0m \u001b[38;5;28;01melse\u001b[39;00m:\n\u001b[0;32m    377\u001b[0m     rgba \u001b[38;5;241m=\u001b[39m np\u001b[38;5;241m.\u001b[39marray([to_rgba(cc) \u001b[38;5;28;01mfor\u001b[39;00m cc \u001b[38;5;129;01min\u001b[39;00m c])\n",
      "File \u001b[1;32mC:\\APPS\\Anaconda3\\lib\\site-packages\\matplotlib\\colors.py:187\u001b[0m, in \u001b[0;36mto_rgba\u001b[1;34m(c, alpha)\u001b[0m\n\u001b[0;32m    185\u001b[0m     rgba \u001b[38;5;241m=\u001b[39m \u001b[38;5;28;01mNone\u001b[39;00m\n\u001b[0;32m    186\u001b[0m \u001b[38;5;28;01mif\u001b[39;00m rgba \u001b[38;5;129;01mis\u001b[39;00m \u001b[38;5;28;01mNone\u001b[39;00m:  \u001b[38;5;66;03m# Suppress exception chaining of cache lookup failure.\u001b[39;00m\n\u001b[1;32m--> 187\u001b[0m     rgba \u001b[38;5;241m=\u001b[39m \u001b[43m_to_rgba_no_colorcycle\u001b[49m\u001b[43m(\u001b[49m\u001b[43mc\u001b[49m\u001b[43m,\u001b[49m\u001b[43m \u001b[49m\u001b[43malpha\u001b[49m\u001b[43m)\u001b[49m\n\u001b[0;32m    188\u001b[0m     \u001b[38;5;28;01mtry\u001b[39;00m:\n\u001b[0;32m    189\u001b[0m         _colors_full_map\u001b[38;5;241m.\u001b[39mcache[c, alpha] \u001b[38;5;241m=\u001b[39m rgba\n",
      "File \u001b[1;32mC:\\APPS\\Anaconda3\\lib\\site-packages\\matplotlib\\colors.py:262\u001b[0m, in \u001b[0;36m_to_rgba_no_colorcycle\u001b[1;34m(c, alpha)\u001b[0m\n\u001b[0;32m    258\u001b[0m             \u001b[38;5;28;01mraise\u001b[39;00m \u001b[38;5;167;01mValueError\u001b[39;00m(\n\u001b[0;32m    259\u001b[0m                 \u001b[38;5;124mf\u001b[39m\u001b[38;5;124m\"\u001b[39m\u001b[38;5;124mInvalid string grayscale value \u001b[39m\u001b[38;5;132;01m{\u001b[39;00morig_c\u001b[38;5;132;01m!r}\u001b[39;00m\u001b[38;5;124m. \u001b[39m\u001b[38;5;124m\"\u001b[39m\n\u001b[0;32m    260\u001b[0m                 \u001b[38;5;124mf\u001b[39m\u001b[38;5;124m\"\u001b[39m\u001b[38;5;124mValue must be within 0-1 range\u001b[39m\u001b[38;5;124m\"\u001b[39m)\n\u001b[0;32m    261\u001b[0m         \u001b[38;5;28;01mreturn\u001b[39;00m c, c, c, alpha \u001b[38;5;28;01mif\u001b[39;00m alpha \u001b[38;5;129;01mis\u001b[39;00m \u001b[38;5;129;01mnot\u001b[39;00m \u001b[38;5;28;01mNone\u001b[39;00m \u001b[38;5;28;01melse\u001b[39;00m \u001b[38;5;241m1.\u001b[39m\n\u001b[1;32m--> 262\u001b[0m     \u001b[38;5;28;01mraise\u001b[39;00m \u001b[38;5;167;01mValueError\u001b[39;00m(\u001b[38;5;124mf\u001b[39m\u001b[38;5;124m\"\u001b[39m\u001b[38;5;124mInvalid RGBA argument: \u001b[39m\u001b[38;5;132;01m{\u001b[39;00morig_c\u001b[38;5;132;01m!r}\u001b[39;00m\u001b[38;5;124m\"\u001b[39m)\n\u001b[0;32m    263\u001b[0m \u001b[38;5;66;03m# turn 2-D array into 1-D array\u001b[39;00m\n\u001b[0;32m    264\u001b[0m \u001b[38;5;28;01mif\u001b[39;00m \u001b[38;5;28misinstance\u001b[39m(c, np\u001b[38;5;241m.\u001b[39mndarray):\n",
      "\u001b[1;31mValueError\u001b[0m: Invalid RGBA argument: '#80706'"
     ]
    },
    {
     "ename": "ValueError",
     "evalue": "Invalid RGBA argument: '#80706'",
     "output_type": "error",
     "traceback": [
      "\u001b[1;31m---------------------------------------------------------------------------\u001b[0m",
      "\u001b[1;31mValueError\u001b[0m                                Traceback (most recent call last)",
      "File \u001b[1;32mC:\\APPS\\Anaconda3\\lib\\site-packages\\IPython\\core\\formatters.py:343\u001b[0m, in \u001b[0;36mBaseFormatter.__call__\u001b[1;34m(self, obj)\u001b[0m\n\u001b[0;32m    341\u001b[0m     method \u001b[38;5;241m=\u001b[39m get_real_method(obj, \u001b[38;5;28mself\u001b[39m\u001b[38;5;241m.\u001b[39mprint_method)\n\u001b[0;32m    342\u001b[0m     \u001b[38;5;28;01mif\u001b[39;00m method \u001b[38;5;129;01mis\u001b[39;00m \u001b[38;5;129;01mnot\u001b[39;00m \u001b[38;5;28;01mNone\u001b[39;00m:\n\u001b[1;32m--> 343\u001b[0m         \u001b[38;5;28;01mreturn\u001b[39;00m \u001b[43mmethod\u001b[49m\u001b[43m(\u001b[49m\u001b[43m)\u001b[49m\n\u001b[0;32m    344\u001b[0m     \u001b[38;5;28;01mreturn\u001b[39;00m \u001b[38;5;28;01mNone\u001b[39;00m\n\u001b[0;32m    345\u001b[0m \u001b[38;5;28;01melse\u001b[39;00m:\n",
      "File \u001b[1;32mC:\\APPS\\Anaconda3\\lib\\site-packages\\matplotlib\\colors.py:797\u001b[0m, in \u001b[0;36mColormap._repr_png_\u001b[1;34m(self)\u001b[0m\n\u001b[0;32m    794\u001b[0m \u001b[38;5;124;03m\"\"\"Generate a PNG representation of the Colormap.\"\"\"\u001b[39;00m\n\u001b[0;32m    795\u001b[0m X \u001b[38;5;241m=\u001b[39m np\u001b[38;5;241m.\u001b[39mtile(np\u001b[38;5;241m.\u001b[39mlinspace(\u001b[38;5;241m0\u001b[39m, \u001b[38;5;241m1\u001b[39m, _REPR_PNG_SIZE[\u001b[38;5;241m0\u001b[39m]),\n\u001b[0;32m    796\u001b[0m             (_REPR_PNG_SIZE[\u001b[38;5;241m1\u001b[39m], \u001b[38;5;241m1\u001b[39m))\n\u001b[1;32m--> 797\u001b[0m pixels \u001b[38;5;241m=\u001b[39m \u001b[38;5;28;43mself\u001b[39;49m\u001b[43m(\u001b[49m\u001b[43mX\u001b[49m\u001b[43m,\u001b[49m\u001b[43m \u001b[49m\u001b[38;5;28;43mbytes\u001b[39;49m\u001b[38;5;241;43m=\u001b[39;49m\u001b[38;5;28;43;01mTrue\u001b[39;49;00m\u001b[43m)\u001b[49m\n\u001b[0;32m    798\u001b[0m png_bytes \u001b[38;5;241m=\u001b[39m io\u001b[38;5;241m.\u001b[39mBytesIO()\n\u001b[0;32m    799\u001b[0m title \u001b[38;5;241m=\u001b[39m \u001b[38;5;28mself\u001b[39m\u001b[38;5;241m.\u001b[39mname \u001b[38;5;241m+\u001b[39m \u001b[38;5;124m'\u001b[39m\u001b[38;5;124m colormap\u001b[39m\u001b[38;5;124m'\u001b[39m\n",
      "File \u001b[1;32mC:\\APPS\\Anaconda3\\lib\\site-packages\\matplotlib\\colors.py:613\u001b[0m, in \u001b[0;36mColormap.__call__\u001b[1;34m(self, X, alpha, bytes)\u001b[0m\n\u001b[0;32m    590\u001b[0m \u001b[38;5;124;03m\"\"\"\u001b[39;00m\n\u001b[0;32m    591\u001b[0m \u001b[38;5;124;03mParameters\u001b[39;00m\n\u001b[0;32m    592\u001b[0m \u001b[38;5;124;03m----------\u001b[39;00m\n\u001b[1;32m   (...)\u001b[0m\n\u001b[0;32m    610\u001b[0m \u001b[38;5;124;03mRGBA values with a shape of ``X.shape + (4, )``.\u001b[39;00m\n\u001b[0;32m    611\u001b[0m \u001b[38;5;124;03m\"\"\"\u001b[39;00m\n\u001b[0;32m    612\u001b[0m \u001b[38;5;28;01mif\u001b[39;00m \u001b[38;5;129;01mnot\u001b[39;00m \u001b[38;5;28mself\u001b[39m\u001b[38;5;241m.\u001b[39m_isinit:\n\u001b[1;32m--> 613\u001b[0m     \u001b[38;5;28;43mself\u001b[39;49m\u001b[38;5;241;43m.\u001b[39;49m\u001b[43m_init\u001b[49m\u001b[43m(\u001b[49m\u001b[43m)\u001b[49m\n\u001b[0;32m    615\u001b[0m mask_bad \u001b[38;5;241m=\u001b[39m X\u001b[38;5;241m.\u001b[39mmask \u001b[38;5;28;01mif\u001b[39;00m np\u001b[38;5;241m.\u001b[39mma\u001b[38;5;241m.\u001b[39mis_masked(X) \u001b[38;5;28;01melse\u001b[39;00m np\u001b[38;5;241m.\u001b[39misnan(X)  \u001b[38;5;66;03m# Mask nan's.\u001b[39;00m\n\u001b[0;32m    616\u001b[0m xa \u001b[38;5;241m=\u001b[39m np\u001b[38;5;241m.\u001b[39marray(X, copy\u001b[38;5;241m=\u001b[39m\u001b[38;5;28;01mTrue\u001b[39;00m)\n",
      "File \u001b[1;32mC:\\APPS\\Anaconda3\\lib\\site-packages\\matplotlib\\colors.py:1066\u001b[0m, in \u001b[0;36mListedColormap._init\u001b[1;34m(self)\u001b[0m\n\u001b[0;32m   1064\u001b[0m \u001b[38;5;28;01mdef\u001b[39;00m \u001b[38;5;21m_init\u001b[39m(\u001b[38;5;28mself\u001b[39m):\n\u001b[0;32m   1065\u001b[0m     \u001b[38;5;28mself\u001b[39m\u001b[38;5;241m.\u001b[39m_lut \u001b[38;5;241m=\u001b[39m np\u001b[38;5;241m.\u001b[39mzeros((\u001b[38;5;28mself\u001b[39m\u001b[38;5;241m.\u001b[39mN \u001b[38;5;241m+\u001b[39m \u001b[38;5;241m3\u001b[39m, \u001b[38;5;241m4\u001b[39m), \u001b[38;5;28mfloat\u001b[39m)\n\u001b[1;32m-> 1066\u001b[0m     \u001b[38;5;28mself\u001b[39m\u001b[38;5;241m.\u001b[39m_lut[:\u001b[38;5;241m-\u001b[39m\u001b[38;5;241m3\u001b[39m] \u001b[38;5;241m=\u001b[39m \u001b[43mto_rgba_array\u001b[49m\u001b[43m(\u001b[49m\u001b[38;5;28;43mself\u001b[39;49m\u001b[38;5;241;43m.\u001b[39;49m\u001b[43mcolors\u001b[49m\u001b[43m)\u001b[49m\n\u001b[0;32m   1067\u001b[0m     \u001b[38;5;28mself\u001b[39m\u001b[38;5;241m.\u001b[39m_isinit \u001b[38;5;241m=\u001b[39m \u001b[38;5;28;01mTrue\u001b[39;00m\n\u001b[0;32m   1068\u001b[0m     \u001b[38;5;28mself\u001b[39m\u001b[38;5;241m.\u001b[39m_set_extremes()\n",
      "File \u001b[1;32mC:\\APPS\\Anaconda3\\lib\\site-packages\\matplotlib\\colors.py:375\u001b[0m, in \u001b[0;36mto_rgba_array\u001b[1;34m(c, alpha)\u001b[0m\n\u001b[0;32m    373\u001b[0m         rgba \u001b[38;5;241m=\u001b[39m np\u001b[38;5;241m.\u001b[39marray(c)\n\u001b[0;32m    374\u001b[0m     \u001b[38;5;28;01melse\u001b[39;00m:\n\u001b[1;32m--> 375\u001b[0m         rgba \u001b[38;5;241m=\u001b[39m np\u001b[38;5;241m.\u001b[39marray([to_rgba(cc) \u001b[38;5;28;01mfor\u001b[39;00m cc \u001b[38;5;129;01min\u001b[39;00m c])\n\u001b[0;32m    376\u001b[0m \u001b[38;5;28;01melse\u001b[39;00m:\n\u001b[0;32m    377\u001b[0m     rgba \u001b[38;5;241m=\u001b[39m np\u001b[38;5;241m.\u001b[39marray([to_rgba(cc) \u001b[38;5;28;01mfor\u001b[39;00m cc \u001b[38;5;129;01min\u001b[39;00m c])\n",
      "File \u001b[1;32mC:\\APPS\\Anaconda3\\lib\\site-packages\\matplotlib\\colors.py:375\u001b[0m, in \u001b[0;36m<listcomp>\u001b[1;34m(.0)\u001b[0m\n\u001b[0;32m    373\u001b[0m         rgba \u001b[38;5;241m=\u001b[39m np\u001b[38;5;241m.\u001b[39marray(c)\n\u001b[0;32m    374\u001b[0m     \u001b[38;5;28;01melse\u001b[39;00m:\n\u001b[1;32m--> 375\u001b[0m         rgba \u001b[38;5;241m=\u001b[39m np\u001b[38;5;241m.\u001b[39marray([\u001b[43mto_rgba\u001b[49m\u001b[43m(\u001b[49m\u001b[43mcc\u001b[49m\u001b[43m)\u001b[49m \u001b[38;5;28;01mfor\u001b[39;00m cc \u001b[38;5;129;01min\u001b[39;00m c])\n\u001b[0;32m    376\u001b[0m \u001b[38;5;28;01melse\u001b[39;00m:\n\u001b[0;32m    377\u001b[0m     rgba \u001b[38;5;241m=\u001b[39m np\u001b[38;5;241m.\u001b[39marray([to_rgba(cc) \u001b[38;5;28;01mfor\u001b[39;00m cc \u001b[38;5;129;01min\u001b[39;00m c])\n",
      "File \u001b[1;32mC:\\APPS\\Anaconda3\\lib\\site-packages\\matplotlib\\colors.py:187\u001b[0m, in \u001b[0;36mto_rgba\u001b[1;34m(c, alpha)\u001b[0m\n\u001b[0;32m    185\u001b[0m     rgba \u001b[38;5;241m=\u001b[39m \u001b[38;5;28;01mNone\u001b[39;00m\n\u001b[0;32m    186\u001b[0m \u001b[38;5;28;01mif\u001b[39;00m rgba \u001b[38;5;129;01mis\u001b[39;00m \u001b[38;5;28;01mNone\u001b[39;00m:  \u001b[38;5;66;03m# Suppress exception chaining of cache lookup failure.\u001b[39;00m\n\u001b[1;32m--> 187\u001b[0m     rgba \u001b[38;5;241m=\u001b[39m \u001b[43m_to_rgba_no_colorcycle\u001b[49m\u001b[43m(\u001b[49m\u001b[43mc\u001b[49m\u001b[43m,\u001b[49m\u001b[43m \u001b[49m\u001b[43malpha\u001b[49m\u001b[43m)\u001b[49m\n\u001b[0;32m    188\u001b[0m     \u001b[38;5;28;01mtry\u001b[39;00m:\n\u001b[0;32m    189\u001b[0m         _colors_full_map\u001b[38;5;241m.\u001b[39mcache[c, alpha] \u001b[38;5;241m=\u001b[39m rgba\n",
      "File \u001b[1;32mC:\\APPS\\Anaconda3\\lib\\site-packages\\matplotlib\\colors.py:262\u001b[0m, in \u001b[0;36m_to_rgba_no_colorcycle\u001b[1;34m(c, alpha)\u001b[0m\n\u001b[0;32m    258\u001b[0m             \u001b[38;5;28;01mraise\u001b[39;00m \u001b[38;5;167;01mValueError\u001b[39;00m(\n\u001b[0;32m    259\u001b[0m                 \u001b[38;5;124mf\u001b[39m\u001b[38;5;124m\"\u001b[39m\u001b[38;5;124mInvalid string grayscale value \u001b[39m\u001b[38;5;132;01m{\u001b[39;00morig_c\u001b[38;5;132;01m!r}\u001b[39;00m\u001b[38;5;124m. \u001b[39m\u001b[38;5;124m\"\u001b[39m\n\u001b[0;32m    260\u001b[0m                 \u001b[38;5;124mf\u001b[39m\u001b[38;5;124m\"\u001b[39m\u001b[38;5;124mValue must be within 0-1 range\u001b[39m\u001b[38;5;124m\"\u001b[39m)\n\u001b[0;32m    261\u001b[0m         \u001b[38;5;28;01mreturn\u001b[39;00m c, c, c, alpha \u001b[38;5;28;01mif\u001b[39;00m alpha \u001b[38;5;129;01mis\u001b[39;00m \u001b[38;5;129;01mnot\u001b[39;00m \u001b[38;5;28;01mNone\u001b[39;00m \u001b[38;5;28;01melse\u001b[39;00m \u001b[38;5;241m1.\u001b[39m\n\u001b[1;32m--> 262\u001b[0m     \u001b[38;5;28;01mraise\u001b[39;00m \u001b[38;5;167;01mValueError\u001b[39;00m(\u001b[38;5;124mf\u001b[39m\u001b[38;5;124m\"\u001b[39m\u001b[38;5;124mInvalid RGBA argument: \u001b[39m\u001b[38;5;132;01m{\u001b[39;00morig_c\u001b[38;5;132;01m!r}\u001b[39;00m\u001b[38;5;124m\"\u001b[39m)\n\u001b[0;32m    263\u001b[0m \u001b[38;5;66;03m# turn 2-D array into 1-D array\u001b[39;00m\n\u001b[0;32m    264\u001b[0m \u001b[38;5;28;01mif\u001b[39;00m \u001b[38;5;28misinstance\u001b[39m(c, np\u001b[38;5;241m.\u001b[39mndarray):\n",
      "\u001b[1;31mValueError\u001b[0m: Invalid RGBA argument: '#80706'"
     ]
    },
    {
     "data": {
      "text/plain": [
       "<matplotlib.colors.ListedColormap at 0x220dcf198b0>"
      ]
     },
     "execution_count": 82,
     "metadata": {},
     "output_type": "execute_result"
    }
   ],
   "source": [
    "cmap_d = ListedColormap(name=pal['pallette'], colors=pal['hex_colors4'])\n",
    "cmap_d"
   ]
  },
  {
   "cell_type": "code",
   "execution_count": 51,
   "id": "c44f63eb",
   "metadata": {},
   "outputs": [
    {
     "data": {
      "image/png": "[encoded data removed]",
      "text/html": [
       "<div style=\"vertical-align: middle;\"><strong>Fun and professional</strong> </div><div class=\"cmap\"><img alt=\"Fun and professional colormap\" title=\"Fun and professional\" style=\"border: 1px solid #555;\" src=\"data:image/png;base64,iVBORw0KGgoAAAANSUhEUgAAAgAAAABACAYAAABsv8+/AAAAI3RFWHRUaXRsZQBGdW4gYW5kIHByb2Zlc3Npb25hbCBjb2xvcm1hcFBgP8MAAAApdEVYdERlc2NyaXB0aW9uAEZ1biBhbmQgcHJvZmVzc2lvbmFsIGNvbG9ybWFwHSTpXQAAADB0RVh0QXV0aG9yAE1hdHBsb3RsaWIgdjMuNS4yLCBodHRwczovL21hdHBsb3RsaWIub3Jnwlp4nAAAADJ0RVh0U29mdHdhcmUATWF0cGxvdGxpYiB2My41LjIsIGh0dHBzOi8vbWF0cGxvdGxpYi5vcmfs/Oe7AAAB3UlEQVR4nO3WQXaCMBiF0R/YXdfaLXRrpgMpbfFECPacDt69k2gwCaKDb3r7eG9VVfPtVlVVc1vH7X3rzO+u7+aXzvz3Pu3c/Ol9r523dO/jaN/n553ed/B59/e9dt5y8fc9Oq+/79X/031s01RVVbUO2zh35r8+P+/nr667v2i9/Q7Wde9jeN16H9v3GNzvaN3D9efz7eG5Du738rrB+zj6/S+vW+9j22Adp/n3/HRwfXjd8tp5u+unzxte97fnvf7c/um8h+9/8rw/et41LT/fAQBJBAAABBIAABBIAABAIAEAAIEEAAAEEgAAEEgAAEAgAQAAgQQAAAQSAAAQSAAAQCABAACBBAAABBIAABBIAABAIAEAAIEEAAAEEgAAEEgAAEAgAQAAgQQAAAQSAAAQSAAAQCABAACBBAAABBIAABBIAABAIAEAAIEEAAAEEgAAEEgAAEAgAQAAgQQAAAQSAAAQSAAAQCABAACBBAAABBIAABBIAABAIAEAAIEEAAAEEgAAEEgAAEAgAQAAgQQAAAQSAAAQSAAAQCABAACBBAAABBIAABBIAABAIAEAAIEEAAAEEgAAEEgAAEAgAQAAgQQAAAQSAAAQSAAAQCABAACBBAAABBIAABDoE3A0yx0kYNE2AAAAAElFTkSuQmCC\"></div><div style=\"vertical-align: middle; max-width: 514px; display: flex; justify-content: space-between;\"><div style=\"float: left;\"><div title=\"#4abdacff\" style=\"display: inline-block; width: 1em; height: 1em; margin: 0; vertical-align: middle; border: 1px solid #555; background-color: #4abdacff;\"></div> under</div><div style=\"margin: 0 auto; display: inline-block;\">bad <div title=\"#00000000\" style=\"display: inline-block; width: 1em; height: 1em; margin: 0; vertical-align: middle; border: 1px solid #555; background-color: #00000000;\"></div></div><div style=\"float: right;\">over <div title=\"#dfdce3ff\" style=\"display: inline-block; width: 1em; height: 1em; margin: 0; vertical-align: middle; border: 1px solid #555; background-color: #dfdce3ff;\"></div></div>"
      ],
      "text/plain": [
       "<matplotlib.colors.LinearSegmentedColormap at 0x220dc63fe50>"
      ]
     },
     "execution_count": 51,
     "metadata": {},
     "output_type": "execute_result"
    }
   ],
   "source": [
    "# create a continuous colormap \n",
    "cmap_c = LinearSegmentedColormap.from_list(name=pal['pallette'], colors=pal['hex_colors4'])\n",
    "cmap_c"
   ]
  },
  {
   "cell_type": "code",
   "execution_count": 56,
   "id": "cff83d01",
   "metadata": {},
   "outputs": [
    {
     "data": {
      "image/png": "[encoded data removed]",
      "text/html": [
       "<div style=\"vertical-align: middle;\"><strong>Fun and professional</strong> </div><div class=\"cmap\"><img alt=\"Fun and professional colormap\" title=\"Fun and professional\" style=\"border: 1px solid #555;\" src=\"data:image/png;base64,iVBORw0KGgoAAAANSUhEUgAAAgAAAABACAYAAABsv8+/AAAAI3RFWHRUaXRsZQBGdW4gYW5kIHByb2Zlc3Npb25hbCBjb2xvcm1hcFBgP8MAAAApdEVYdERlc2NyaXB0aW9uAEZ1biBhbmQgcHJvZmVzc2lvbmFsIGNvbG9ybWFwHSTpXQAAADB0RVh0QXV0aG9yAE1hdHBsb3RsaWIgdjMuNS4yLCBodHRwczovL21hdHBsb3RsaWIub3Jnwlp4nAAAADJ0RVh0U29mdHdhcmUATWF0cGxvdGxpYiB2My41LjIsIGh0dHBzOi8vbWF0cGxvdGxpYi5vcmfs/Oe7AAAB3UlEQVR4nO3WQXaCMBiF0R/YXdfaLXRrpgMpbfFECPacDt69k2gwCaKDb3r7eG9VVfPtVlVVc1vH7X3rzO+u7+aXzvz3Pu3c/Ol9r523dO/jaN/n553ed/B59/e9dt5y8fc9Oq+/79X/031s01RVVbUO2zh35r8+P+/nr667v2i9/Q7Wde9jeN16H9v3GNzvaN3D9efz7eG5Du738rrB+zj6/S+vW+9j22Adp/n3/HRwfXjd8tp5u+unzxte97fnvf7c/um8h+9/8rw/et41LT/fAQBJBAAABBIAABBIAABAIAEAAIEEAAAEEgAAEEgAAEAgAQAAgQQAAAQSAAAQSAAAQCABAACBBAAABBIAABBIAABAIAEAAIEEAAAEEgAAEEgAAEAgAQAAgQQAAAQSAAAQSAAAQCABAACBBAAABBIAABBIAABAIAEAAIEEAAAEEgAAEEgAAEAgAQAAgQQAAAQSAAAQSAAAQCABAACBBAAABBIAABBIAABAIAEAAIEEAAAEEgAAEEgAAEAgAQAAgQQAAAQSAAAQSAAAQCABAACBBAAABBIAABBIAABAIAEAAIEEAAAEEgAAEEgAAEAgAQAAgQQAAAQSAAAQSAAAQCABAACBBAAABBIAABDoE3A0yx0kYNE2AAAAAElFTkSuQmCC\"></div><div style=\"vertical-align: middle; max-width: 514px; display: flex; justify-content: space-between;\"><div style=\"float: left;\"><div title=\"#4abdacff\" style=\"display: inline-block; width: 1em; height: 1em; margin: 0; vertical-align: middle; border: 1px solid #555; background-color: #4abdacff;\"></div> under</div><div style=\"margin: 0 auto; display: inline-block;\">bad <div title=\"#00000000\" style=\"display: inline-block; width: 1em; height: 1em; margin: 0; vertical-align: middle; border: 1px solid #555; background-color: #00000000;\"></div></div><div style=\"float: right;\">over <div title=\"#dfdce3ff\" style=\"display: inline-block; width: 1em; height: 1em; margin: 0; vertical-align: middle; border: 1px solid #555; background-color: #dfdce3ff;\"></div></div>"
      ],
      "text/plain": [
       "<matplotlib.colors.LinearSegmentedColormap at 0x220dc33abe0>"
      ]
     },
     "execution_count": 56,
     "metadata": {},
     "output_type": "execute_result"
    }
   ],
   "source": [
    "# convert the discrete map into a continuous map\n",
    "LinearSegmentedColormap.from_list(cmap_d.name, cmap_d.colors)"
   ]
  },
  {
   "cell_type": "code",
   "execution_count": 39,
   "id": "a68302bd",
   "metadata": {},
   "outputs": [],
   "source": [
    "# look for pallettes matching a particular hex color\n",
    "selected_color = \"#dfdce3\"\n",
    "pals = [c for c in canva_json if selected_color.lower() in c['hex_colors4']]"
   ]
  },
  {
   "cell_type": "code",
   "execution_count": 83,
   "id": "78746684",
   "metadata": {},
   "outputs": [],
   "source": [
    "cmaps_discrete = [ListedColormap(name=pal['pallette_camel']+'_d', colors=pal['hex_colors4']) for pal in canva_json]"
   ]
  },
  {
   "cell_type": "code",
   "execution_count": 95,
   "id": "18365183",
   "metadata": {
    "collapsed": true
   },
   "outputs": [
    {
     "ename": "ValueError",
     "evalue": "Invalid RGBA argument: '#80706'",
     "output_type": "error",
     "traceback": [
      "\u001b[1;31m---------------------------------------------------------------------------\u001b[0m",
      "\u001b[1;31mValueError\u001b[0m                                Traceback (most recent call last)",
      "File \u001b[1;32mC:\\APPS\\Anaconda3\\lib\\site-packages\\IPython\\core\\formatters.py:343\u001b[0m, in \u001b[0;36mBaseFormatter.__call__\u001b[1;34m(self, obj)\u001b[0m\n\u001b[0;32m    341\u001b[0m     method \u001b[38;5;241m=\u001b[39m get_real_method(obj, \u001b[38;5;28mself\u001b[39m\u001b[38;5;241m.\u001b[39mprint_method)\n\u001b[0;32m    342\u001b[0m     \u001b[38;5;28;01mif\u001b[39;00m method \u001b[38;5;129;01mis\u001b[39;00m \u001b[38;5;129;01mnot\u001b[39;00m \u001b[38;5;28;01mNone\u001b[39;00m:\n\u001b[1;32m--> 343\u001b[0m         \u001b[38;5;28;01mreturn\u001b[39;00m \u001b[43mmethod\u001b[49m\u001b[43m(\u001b[49m\u001b[43m)\u001b[49m\n\u001b[0;32m    344\u001b[0m     \u001b[38;5;28;01mreturn\u001b[39;00m \u001b[38;5;28;01mNone\u001b[39;00m\n\u001b[0;32m    345\u001b[0m \u001b[38;5;28;01melse\u001b[39;00m:\n",
      "File \u001b[1;32mC:\\APPS\\Anaconda3\\lib\\site-packages\\matplotlib\\colors.py:811\u001b[0m, in \u001b[0;36mColormap._repr_html_\u001b[1;34m(self)\u001b[0m\n\u001b[0;32m    809\u001b[0m \u001b[38;5;28;01mdef\u001b[39;00m \u001b[38;5;21m_repr_html_\u001b[39m(\u001b[38;5;28mself\u001b[39m):\n\u001b[0;32m    810\u001b[0m     \u001b[38;5;124;03m\"\"\"Generate an HTML representation of the Colormap.\"\"\"\u001b[39;00m\n\u001b[1;32m--> 811\u001b[0m     png_bytes \u001b[38;5;241m=\u001b[39m \u001b[38;5;28;43mself\u001b[39;49m\u001b[38;5;241;43m.\u001b[39;49m\u001b[43m_repr_png_\u001b[49m\u001b[43m(\u001b[49m\u001b[43m)\u001b[49m\n\u001b[0;32m    812\u001b[0m     png_base64 \u001b[38;5;241m=\u001b[39m base64\u001b[38;5;241m.\u001b[39mb64encode(png_bytes)\u001b[38;5;241m.\u001b[39mdecode(\u001b[38;5;124m'\u001b[39m\u001b[38;5;124mascii\u001b[39m\u001b[38;5;124m'\u001b[39m)\n\u001b[0;32m    813\u001b[0m     \u001b[38;5;28;01mdef\u001b[39;00m \u001b[38;5;21mcolor_block\u001b[39m(color):\n",
      "File \u001b[1;32mC:\\APPS\\Anaconda3\\lib\\site-packages\\matplotlib\\colors.py:797\u001b[0m, in \u001b[0;36mColormap._repr_png_\u001b[1;34m(self)\u001b[0m\n\u001b[0;32m    794\u001b[0m \u001b[38;5;124;03m\"\"\"Generate a PNG representation of the Colormap.\"\"\"\u001b[39;00m\n\u001b[0;32m    795\u001b[0m X \u001b[38;5;241m=\u001b[39m np\u001b[38;5;241m.\u001b[39mtile(np\u001b[38;5;241m.\u001b[39mlinspace(\u001b[38;5;241m0\u001b[39m, \u001b[38;5;241m1\u001b[39m, _REPR_PNG_SIZE[\u001b[38;5;241m0\u001b[39m]),\n\u001b[0;32m    796\u001b[0m             (_REPR_PNG_SIZE[\u001b[38;5;241m1\u001b[39m], \u001b[38;5;241m1\u001b[39m))\n\u001b[1;32m--> 797\u001b[0m pixels \u001b[38;5;241m=\u001b[39m \u001b[38;5;28;43mself\u001b[39;49m\u001b[43m(\u001b[49m\u001b[43mX\u001b[49m\u001b[43m,\u001b[49m\u001b[43m \u001b[49m\u001b[38;5;28;43mbytes\u001b[39;49m\u001b[38;5;241;43m=\u001b[39;49m\u001b[38;5;28;43;01mTrue\u001b[39;49;00m\u001b[43m)\u001b[49m\n\u001b[0;32m    798\u001b[0m png_bytes \u001b[38;5;241m=\u001b[39m io\u001b[38;5;241m.\u001b[39mBytesIO()\n\u001b[0;32m    799\u001b[0m title \u001b[38;5;241m=\u001b[39m \u001b[38;5;28mself\u001b[39m\u001b[38;5;241m.\u001b[39mname \u001b[38;5;241m+\u001b[39m \u001b[38;5;124m'\u001b[39m\u001b[38;5;124m colormap\u001b[39m\u001b[38;5;124m'\u001b[39m\n",
      "File \u001b[1;32mC:\\APPS\\Anaconda3\\lib\\site-packages\\matplotlib\\colors.py:613\u001b[0m, in \u001b[0;36mColormap.__call__\u001b[1;34m(self, X, alpha, bytes)\u001b[0m\n\u001b[0;32m    590\u001b[0m \u001b[38;5;124;03m\"\"\"\u001b[39;00m\n\u001b[0;32m    591\u001b[0m \u001b[38;5;124;03mParameters\u001b[39;00m\n\u001b[0;32m    592\u001b[0m \u001b[38;5;124;03m----------\u001b[39;00m\n\u001b[1;32m   (...)\u001b[0m\n\u001b[0;32m    610\u001b[0m \u001b[38;5;124;03mRGBA values with a shape of ``X.shape + (4, )``.\u001b[39;00m\n\u001b[0;32m    611\u001b[0m \u001b[38;5;124;03m\"\"\"\u001b[39;00m\n\u001b[0;32m    612\u001b[0m \u001b[38;5;28;01mif\u001b[39;00m \u001b[38;5;129;01mnot\u001b[39;00m \u001b[38;5;28mself\u001b[39m\u001b[38;5;241m.\u001b[39m_isinit:\n\u001b[1;32m--> 613\u001b[0m     \u001b[38;5;28;43mself\u001b[39;49m\u001b[38;5;241;43m.\u001b[39;49m\u001b[43m_init\u001b[49m\u001b[43m(\u001b[49m\u001b[43m)\u001b[49m\n\u001b[0;32m    615\u001b[0m mask_bad \u001b[38;5;241m=\u001b[39m X\u001b[38;5;241m.\u001b[39mmask \u001b[38;5;28;01mif\u001b[39;00m np\u001b[38;5;241m.\u001b[39mma\u001b[38;5;241m.\u001b[39mis_masked(X) \u001b[38;5;28;01melse\u001b[39;00m np\u001b[38;5;241m.\u001b[39misnan(X)  \u001b[38;5;66;03m# Mask nan's.\u001b[39;00m\n\u001b[0;32m    616\u001b[0m xa \u001b[38;5;241m=\u001b[39m np\u001b[38;5;241m.\u001b[39marray(X, copy\u001b[38;5;241m=\u001b[39m\u001b[38;5;28;01mTrue\u001b[39;00m)\n",
      "File \u001b[1;32mC:\\APPS\\Anaconda3\\lib\\site-packages\\matplotlib\\colors.py:1066\u001b[0m, in \u001b[0;36mListedColormap._init\u001b[1;34m(self)\u001b[0m\n\u001b[0;32m   1064\u001b[0m \u001b[38;5;28;01mdef\u001b[39;00m \u001b[38;5;21m_init\u001b[39m(\u001b[38;5;28mself\u001b[39m):\n\u001b[0;32m   1065\u001b[0m     \u001b[38;5;28mself\u001b[39m\u001b[38;5;241m.\u001b[39m_lut \u001b[38;5;241m=\u001b[39m np\u001b[38;5;241m.\u001b[39mzeros((\u001b[38;5;28mself\u001b[39m\u001b[38;5;241m.\u001b[39mN \u001b[38;5;241m+\u001b[39m \u001b[38;5;241m3\u001b[39m, \u001b[38;5;241m4\u001b[39m), \u001b[38;5;28mfloat\u001b[39m)\n\u001b[1;32m-> 1066\u001b[0m     \u001b[38;5;28mself\u001b[39m\u001b[38;5;241m.\u001b[39m_lut[:\u001b[38;5;241m-\u001b[39m\u001b[38;5;241m3\u001b[39m] \u001b[38;5;241m=\u001b[39m \u001b[43mto_rgba_array\u001b[49m\u001b[43m(\u001b[49m\u001b[38;5;28;43mself\u001b[39;49m\u001b[38;5;241;43m.\u001b[39;49m\u001b[43mcolors\u001b[49m\u001b[43m)\u001b[49m\n\u001b[0;32m   1067\u001b[0m     \u001b[38;5;28mself\u001b[39m\u001b[38;5;241m.\u001b[39m_isinit \u001b[38;5;241m=\u001b[39m \u001b[38;5;28;01mTrue\u001b[39;00m\n\u001b[0;32m   1068\u001b[0m     \u001b[38;5;28mself\u001b[39m\u001b[38;5;241m.\u001b[39m_set_extremes()\n",
      "File \u001b[1;32mC:\\APPS\\Anaconda3\\lib\\site-packages\\matplotlib\\colors.py:375\u001b[0m, in \u001b[0;36mto_rgba_array\u001b[1;34m(c, alpha)\u001b[0m\n\u001b[0;32m    373\u001b[0m         rgba \u001b[38;5;241m=\u001b[39m np\u001b[38;5;241m.\u001b[39marray(c)\n\u001b[0;32m    374\u001b[0m     \u001b[38;5;28;01melse\u001b[39;00m:\n\u001b[1;32m--> 375\u001b[0m         rgba \u001b[38;5;241m=\u001b[39m np\u001b[38;5;241m.\u001b[39marray([to_rgba(cc) \u001b[38;5;28;01mfor\u001b[39;00m cc \u001b[38;5;129;01min\u001b[39;00m c])\n\u001b[0;32m    376\u001b[0m \u001b[38;5;28;01melse\u001b[39;00m:\n\u001b[0;32m    377\u001b[0m     rgba \u001b[38;5;241m=\u001b[39m np\u001b[38;5;241m.\u001b[39marray([to_rgba(cc) \u001b[38;5;28;01mfor\u001b[39;00m cc \u001b[38;5;129;01min\u001b[39;00m c])\n",
      "File \u001b[1;32mC:\\APPS\\Anaconda3\\lib\\site-packages\\matplotlib\\colors.py:375\u001b[0m, in \u001b[0;36m<listcomp>\u001b[1;34m(.0)\u001b[0m\n\u001b[0;32m    373\u001b[0m         rgba \u001b[38;5;241m=\u001b[39m np\u001b[38;5;241m.\u001b[39marray(c)\n\u001b[0;32m    374\u001b[0m     \u001b[38;5;28;01melse\u001b[39;00m:\n\u001b[1;32m--> 375\u001b[0m         rgba \u001b[38;5;241m=\u001b[39m np\u001b[38;5;241m.\u001b[39marray([\u001b[43mto_rgba\u001b[49m\u001b[43m(\u001b[49m\u001b[43mcc\u001b[49m\u001b[43m)\u001b[49m \u001b[38;5;28;01mfor\u001b[39;00m cc \u001b[38;5;129;01min\u001b[39;00m c])\n\u001b[0;32m    376\u001b[0m \u001b[38;5;28;01melse\u001b[39;00m:\n\u001b[0;32m    377\u001b[0m     rgba \u001b[38;5;241m=\u001b[39m np\u001b[38;5;241m.\u001b[39marray([to_rgba(cc) \u001b[38;5;28;01mfor\u001b[39;00m cc \u001b[38;5;129;01min\u001b[39;00m c])\n",
      "File \u001b[1;32mC:\\APPS\\Anaconda3\\lib\\site-packages\\matplotlib\\colors.py:187\u001b[0m, in \u001b[0;36mto_rgba\u001b[1;34m(c, alpha)\u001b[0m\n\u001b[0;32m    185\u001b[0m     rgba \u001b[38;5;241m=\u001b[39m \u001b[38;5;28;01mNone\u001b[39;00m\n\u001b[0;32m    186\u001b[0m \u001b[38;5;28;01mif\u001b[39;00m rgba \u001b[38;5;129;01mis\u001b[39;00m \u001b[38;5;28;01mNone\u001b[39;00m:  \u001b[38;5;66;03m# Suppress exception chaining of cache lookup failure.\u001b[39;00m\n\u001b[1;32m--> 187\u001b[0m     rgba \u001b[38;5;241m=\u001b[39m \u001b[43m_to_rgba_no_colorcycle\u001b[49m\u001b[43m(\u001b[49m\u001b[43mc\u001b[49m\u001b[43m,\u001b[49m\u001b[43m \u001b[49m\u001b[43malpha\u001b[49m\u001b[43m)\u001b[49m\n\u001b[0;32m    188\u001b[0m     \u001b[38;5;28;01mtry\u001b[39;00m:\n\u001b[0;32m    189\u001b[0m         _colors_full_map\u001b[38;5;241m.\u001b[39mcache[c, alpha] \u001b[38;5;241m=\u001b[39m rgba\n",
      "File \u001b[1;32mC:\\APPS\\Anaconda3\\lib\\site-packages\\matplotlib\\colors.py:262\u001b[0m, in \u001b[0;36m_to_rgba_no_colorcycle\u001b[1;34m(c, alpha)\u001b[0m\n\u001b[0;32m    258\u001b[0m             \u001b[38;5;28;01mraise\u001b[39;00m \u001b[38;5;167;01mValueError\u001b[39;00m(\n\u001b[0;32m    259\u001b[0m                 \u001b[38;5;124mf\u001b[39m\u001b[38;5;124m\"\u001b[39m\u001b[38;5;124mInvalid string grayscale value \u001b[39m\u001b[38;5;132;01m{\u001b[39;00morig_c\u001b[38;5;132;01m!r}\u001b[39;00m\u001b[38;5;124m. \u001b[39m\u001b[38;5;124m\"\u001b[39m\n\u001b[0;32m    260\u001b[0m                 \u001b[38;5;124mf\u001b[39m\u001b[38;5;124m\"\u001b[39m\u001b[38;5;124mValue must be within 0-1 range\u001b[39m\u001b[38;5;124m\"\u001b[39m)\n\u001b[0;32m    261\u001b[0m         \u001b[38;5;28;01mreturn\u001b[39;00m c, c, c, alpha \u001b[38;5;28;01mif\u001b[39;00m alpha \u001b[38;5;129;01mis\u001b[39;00m \u001b[38;5;129;01mnot\u001b[39;00m \u001b[38;5;28;01mNone\u001b[39;00m \u001b[38;5;28;01melse\u001b[39;00m \u001b[38;5;241m1.\u001b[39m\n\u001b[1;32m--> 262\u001b[0m     \u001b[38;5;28;01mraise\u001b[39;00m \u001b[38;5;167;01mValueError\u001b[39;00m(\u001b[38;5;124mf\u001b[39m\u001b[38;5;124m\"\u001b[39m\u001b[38;5;124mInvalid RGBA argument: \u001b[39m\u001b[38;5;132;01m{\u001b[39;00morig_c\u001b[38;5;132;01m!r}\u001b[39;00m\u001b[38;5;124m\"\u001b[39m)\n\u001b[0;32m    263\u001b[0m \u001b[38;5;66;03m# turn 2-D array into 1-D array\u001b[39;00m\n\u001b[0;32m    264\u001b[0m \u001b[38;5;28;01mif\u001b[39;00m \u001b[38;5;28misinstance\u001b[39m(c, np\u001b[38;5;241m.\u001b[39mndarray):\n",
      "\u001b[1;31mValueError\u001b[0m: Invalid RGBA argument: '#80706'"
     ]
    },
    {
     "ename": "ValueError",
     "evalue": "Invalid RGBA argument: '#80706'",
     "output_type": "error",
     "traceback": [
      "\u001b[1;31m---------------------------------------------------------------------------\u001b[0m",
      "\u001b[1;31mValueError\u001b[0m                                Traceback (most recent call last)",
      "File \u001b[1;32mC:\\APPS\\Anaconda3\\lib\\site-packages\\IPython\\core\\formatters.py:343\u001b[0m, in \u001b[0;36mBaseFormatter.__call__\u001b[1;34m(self, obj)\u001b[0m\n\u001b[0;32m    341\u001b[0m     method \u001b[38;5;241m=\u001b[39m get_real_method(obj, \u001b[38;5;28mself\u001b[39m\u001b[38;5;241m.\u001b[39mprint_method)\n\u001b[0;32m    342\u001b[0m     \u001b[38;5;28;01mif\u001b[39;00m method \u001b[38;5;129;01mis\u001b[39;00m \u001b[38;5;129;01mnot\u001b[39;00m \u001b[38;5;28;01mNone\u001b[39;00m:\n\u001b[1;32m--> 343\u001b[0m         \u001b[38;5;28;01mreturn\u001b[39;00m \u001b[43mmethod\u001b[49m\u001b[43m(\u001b[49m\u001b[43m)\u001b[49m\n\u001b[0;32m    344\u001b[0m     \u001b[38;5;28;01mreturn\u001b[39;00m \u001b[38;5;28;01mNone\u001b[39;00m\n\u001b[0;32m    345\u001b[0m \u001b[38;5;28;01melse\u001b[39;00m:\n",
      "File \u001b[1;32mC:\\APPS\\Anaconda3\\lib\\site-packages\\matplotlib\\colors.py:797\u001b[0m, in \u001b[0;36mColormap._repr_png_\u001b[1;34m(self)\u001b[0m\n\u001b[0;32m    794\u001b[0m \u001b[38;5;124;03m\"\"\"Generate a PNG representation of the Colormap.\"\"\"\u001b[39;00m\n\u001b[0;32m    795\u001b[0m X \u001b[38;5;241m=\u001b[39m np\u001b[38;5;241m.\u001b[39mtile(np\u001b[38;5;241m.\u001b[39mlinspace(\u001b[38;5;241m0\u001b[39m, \u001b[38;5;241m1\u001b[39m, _REPR_PNG_SIZE[\u001b[38;5;241m0\u001b[39m]),\n\u001b[0;32m    796\u001b[0m             (_REPR_PNG_SIZE[\u001b[38;5;241m1\u001b[39m], \u001b[38;5;241m1\u001b[39m))\n\u001b[1;32m--> 797\u001b[0m pixels \u001b[38;5;241m=\u001b[39m \u001b[38;5;28;43mself\u001b[39;49m\u001b[43m(\u001b[49m\u001b[43mX\u001b[49m\u001b[43m,\u001b[49m\u001b[43m \u001b[49m\u001b[38;5;28;43mbytes\u001b[39;49m\u001b[38;5;241;43m=\u001b[39;49m\u001b[38;5;28;43;01mTrue\u001b[39;49;00m\u001b[43m)\u001b[49m\n\u001b[0;32m    798\u001b[0m png_bytes \u001b[38;5;241m=\u001b[39m io\u001b[38;5;241m.\u001b[39mBytesIO()\n\u001b[0;32m    799\u001b[0m title \u001b[38;5;241m=\u001b[39m \u001b[38;5;28mself\u001b[39m\u001b[38;5;241m.\u001b[39mname \u001b[38;5;241m+\u001b[39m \u001b[38;5;124m'\u001b[39m\u001b[38;5;124m colormap\u001b[39m\u001b[38;5;124m'\u001b[39m\n",
      "File \u001b[1;32mC:\\APPS\\Anaconda3\\lib\\site-packages\\matplotlib\\colors.py:613\u001b[0m, in \u001b[0;36mColormap.__call__\u001b[1;34m(self, X, alpha, bytes)\u001b[0m\n\u001b[0;32m    590\u001b[0m \u001b[38;5;124;03m\"\"\"\u001b[39;00m\n\u001b[0;32m    591\u001b[0m \u001b[38;5;124;03mParameters\u001b[39;00m\n\u001b[0;32m    592\u001b[0m \u001b[38;5;124;03m----------\u001b[39;00m\n\u001b[1;32m   (...)\u001b[0m\n\u001b[0;32m    610\u001b[0m \u001b[38;5;124;03mRGBA values with a shape of ``X.shape + (4, )``.\u001b[39;00m\n\u001b[0;32m    611\u001b[0m \u001b[38;5;124;03m\"\"\"\u001b[39;00m\n\u001b[0;32m    612\u001b[0m \u001b[38;5;28;01mif\u001b[39;00m \u001b[38;5;129;01mnot\u001b[39;00m \u001b[38;5;28mself\u001b[39m\u001b[38;5;241m.\u001b[39m_isinit:\n\u001b[1;32m--> 613\u001b[0m     \u001b[38;5;28;43mself\u001b[39;49m\u001b[38;5;241;43m.\u001b[39;49m\u001b[43m_init\u001b[49m\u001b[43m(\u001b[49m\u001b[43m)\u001b[49m\n\u001b[0;32m    615\u001b[0m mask_bad \u001b[38;5;241m=\u001b[39m X\u001b[38;5;241m.\u001b[39mmask \u001b[38;5;28;01mif\u001b[39;00m np\u001b[38;5;241m.\u001b[39mma\u001b[38;5;241m.\u001b[39mis_masked(X) \u001b[38;5;28;01melse\u001b[39;00m np\u001b[38;5;241m.\u001b[39misnan(X)  \u001b[38;5;66;03m# Mask nan's.\u001b[39;00m\n\u001b[0;32m    616\u001b[0m xa \u001b[38;5;241m=\u001b[39m np\u001b[38;5;241m.\u001b[39marray(X, copy\u001b[38;5;241m=\u001b[39m\u001b[38;5;28;01mTrue\u001b[39;00m)\n",
      "File \u001b[1;32mC:\\APPS\\Anaconda3\\lib\\site-packages\\matplotlib\\colors.py:1066\u001b[0m, in \u001b[0;36mListedColormap._init\u001b[1;34m(self)\u001b[0m\n\u001b[0;32m   1064\u001b[0m \u001b[38;5;28;01mdef\u001b[39;00m \u001b[38;5;21m_init\u001b[39m(\u001b[38;5;28mself\u001b[39m):\n\u001b[0;32m   1065\u001b[0m     \u001b[38;5;28mself\u001b[39m\u001b[38;5;241m.\u001b[39m_lut \u001b[38;5;241m=\u001b[39m np\u001b[38;5;241m.\u001b[39mzeros((\u001b[38;5;28mself\u001b[39m\u001b[38;5;241m.\u001b[39mN \u001b[38;5;241m+\u001b[39m \u001b[38;5;241m3\u001b[39m, \u001b[38;5;241m4\u001b[39m), \u001b[38;5;28mfloat\u001b[39m)\n\u001b[1;32m-> 1066\u001b[0m     \u001b[38;5;28mself\u001b[39m\u001b[38;5;241m.\u001b[39m_lut[:\u001b[38;5;241m-\u001b[39m\u001b[38;5;241m3\u001b[39m] \u001b[38;5;241m=\u001b[39m \u001b[43mto_rgba_array\u001b[49m\u001b[43m(\u001b[49m\u001b[38;5;28;43mself\u001b[39;49m\u001b[38;5;241;43m.\u001b[39;49m\u001b[43mcolors\u001b[49m\u001b[43m)\u001b[49m\n\u001b[0;32m   1067\u001b[0m     \u001b[38;5;28mself\u001b[39m\u001b[38;5;241m.\u001b[39m_isinit \u001b[38;5;241m=\u001b[39m \u001b[38;5;28;01mTrue\u001b[39;00m\n\u001b[0;32m   1068\u001b[0m     \u001b[38;5;28mself\u001b[39m\u001b[38;5;241m.\u001b[39m_set_extremes()\n",
      "File \u001b[1;32mC:\\APPS\\Anaconda3\\lib\\site-packages\\matplotlib\\colors.py:375\u001b[0m, in \u001b[0;36mto_rgba_array\u001b[1;34m(c, alpha)\u001b[0m\n\u001b[0;32m    373\u001b[0m         rgba \u001b[38;5;241m=\u001b[39m np\u001b[38;5;241m.\u001b[39marray(c)\n\u001b[0;32m    374\u001b[0m     \u001b[38;5;28;01melse\u001b[39;00m:\n\u001b[1;32m--> 375\u001b[0m         rgba \u001b[38;5;241m=\u001b[39m np\u001b[38;5;241m.\u001b[39marray([to_rgba(cc) \u001b[38;5;28;01mfor\u001b[39;00m cc \u001b[38;5;129;01min\u001b[39;00m c])\n\u001b[0;32m    376\u001b[0m \u001b[38;5;28;01melse\u001b[39;00m:\n\u001b[0;32m    377\u001b[0m     rgba \u001b[38;5;241m=\u001b[39m np\u001b[38;5;241m.\u001b[39marray([to_rgba(cc) \u001b[38;5;28;01mfor\u001b[39;00m cc \u001b[38;5;129;01min\u001b[39;00m c])\n",
      "File \u001b[1;32mC:\\APPS\\Anaconda3\\lib\\site-packages\\matplotlib\\colors.py:375\u001b[0m, in \u001b[0;36m<listcomp>\u001b[1;34m(.0)\u001b[0m\n\u001b[0;32m    373\u001b[0m         rgba \u001b[38;5;241m=\u001b[39m np\u001b[38;5;241m.\u001b[39marray(c)\n\u001b[0;32m    374\u001b[0m     \u001b[38;5;28;01melse\u001b[39;00m:\n\u001b[1;32m--> 375\u001b[0m         rgba \u001b[38;5;241m=\u001b[39m np\u001b[38;5;241m.\u001b[39marray([\u001b[43mto_rgba\u001b[49m\u001b[43m(\u001b[49m\u001b[43mcc\u001b[49m\u001b[43m)\u001b[49m \u001b[38;5;28;01mfor\u001b[39;00m cc \u001b[38;5;129;01min\u001b[39;00m c])\n\u001b[0;32m    376\u001b[0m \u001b[38;5;28;01melse\u001b[39;00m:\n\u001b[0;32m    377\u001b[0m     rgba \u001b[38;5;241m=\u001b[39m np\u001b[38;5;241m.\u001b[39marray([to_rgba(cc) \u001b[38;5;28;01mfor\u001b[39;00m cc \u001b[38;5;129;01min\u001b[39;00m c])\n",
      "File \u001b[1;32mC:\\APPS\\Anaconda3\\lib\\site-packages\\matplotlib\\colors.py:187\u001b[0m, in \u001b[0;36mto_rgba\u001b[1;34m(c, alpha)\u001b[0m\n\u001b[0;32m    185\u001b[0m     rgba \u001b[38;5;241m=\u001b[39m \u001b[38;5;28;01mNone\u001b[39;00m\n\u001b[0;32m    186\u001b[0m \u001b[38;5;28;01mif\u001b[39;00m rgba \u001b[38;5;129;01mis\u001b[39;00m \u001b[38;5;28;01mNone\u001b[39;00m:  \u001b[38;5;66;03m# Suppress exception chaining of cache lookup failure.\u001b[39;00m\n\u001b[1;32m--> 187\u001b[0m     rgba \u001b[38;5;241m=\u001b[39m \u001b[43m_to_rgba_no_colorcycle\u001b[49m\u001b[43m(\u001b[49m\u001b[43mc\u001b[49m\u001b[43m,\u001b[49m\u001b[43m \u001b[49m\u001b[43malpha\u001b[49m\u001b[43m)\u001b[49m\n\u001b[0;32m    188\u001b[0m     \u001b[38;5;28;01mtry\u001b[39;00m:\n\u001b[0;32m    189\u001b[0m         _colors_full_map\u001b[38;5;241m.\u001b[39mcache[c, alpha] \u001b[38;5;241m=\u001b[39m rgba\n",
      "File \u001b[1;32mC:\\APPS\\Anaconda3\\lib\\site-packages\\matplotlib\\colors.py:262\u001b[0m, in \u001b[0;36m_to_rgba_no_colorcycle\u001b[1;34m(c, alpha)\u001b[0m\n\u001b[0;32m    258\u001b[0m             \u001b[38;5;28;01mraise\u001b[39;00m \u001b[38;5;167;01mValueError\u001b[39;00m(\n\u001b[0;32m    259\u001b[0m                 \u001b[38;5;124mf\u001b[39m\u001b[38;5;124m\"\u001b[39m\u001b[38;5;124mInvalid string grayscale value \u001b[39m\u001b[38;5;132;01m{\u001b[39;00morig_c\u001b[38;5;132;01m!r}\u001b[39;00m\u001b[38;5;124m. \u001b[39m\u001b[38;5;124m\"\u001b[39m\n\u001b[0;32m    260\u001b[0m                 \u001b[38;5;124mf\u001b[39m\u001b[38;5;124m\"\u001b[39m\u001b[38;5;124mValue must be within 0-1 range\u001b[39m\u001b[38;5;124m\"\u001b[39m)\n\u001b[0;32m    261\u001b[0m         \u001b[38;5;28;01mreturn\u001b[39;00m c, c, c, alpha \u001b[38;5;28;01mif\u001b[39;00m alpha \u001b[38;5;129;01mis\u001b[39;00m \u001b[38;5;129;01mnot\u001b[39;00m \u001b[38;5;28;01mNone\u001b[39;00m \u001b[38;5;28;01melse\u001b[39;00m \u001b[38;5;241m1.\u001b[39m\n\u001b[1;32m--> 262\u001b[0m     \u001b[38;5;28;01mraise\u001b[39;00m \u001b[38;5;167;01mValueError\u001b[39;00m(\u001b[38;5;124mf\u001b[39m\u001b[38;5;124m\"\u001b[39m\u001b[38;5;124mInvalid RGBA argument: \u001b[39m\u001b[38;5;132;01m{\u001b[39;00morig_c\u001b[38;5;132;01m!r}\u001b[39;00m\u001b[38;5;124m\"\u001b[39m)\n\u001b[0;32m    263\u001b[0m \u001b[38;5;66;03m# turn 2-D array into 1-D array\u001b[39;00m\n\u001b[0;32m    264\u001b[0m \u001b[38;5;28;01mif\u001b[39;00m \u001b[38;5;28misinstance\u001b[39m(c, np\u001b[38;5;241m.\u001b[39mndarray):\n",
      "\u001b[1;31mValueError\u001b[0m: Invalid RGBA argument: '#80706'"
     ]
    },
    {
     "data": {
      "text/plain": [
       "<matplotlib.colors.ListedColormap at 0x220dfe95a30>"
      ]
     },
     "execution_count": 95,
     "metadata": {},
     "output_type": "execute_result"
    }
   ],
   "source": [
    "cmaps_discrete[27]"
   ]
  },
  {
   "cell_type": "code",
   "execution_count": 74,
   "id": "d17ed1aa",
   "metadata": {
    "collapsed": true
   },
   "outputs": [
    {
     "ename": "ValueError",
     "evalue": "Invalid RGBA argument: '#80706'",
     "output_type": "error",
     "traceback": [
      "\u001b[1;31m---------------------------------------------------------------------------\u001b[0m",
      "\u001b[1;31mValueError\u001b[0m                                Traceback (most recent call last)",
      "Input \u001b[1;32mIn [74]\u001b[0m, in \u001b[0;36m<cell line: 1>\u001b[1;34m()\u001b[0m\n\u001b[1;32m----> 1\u001b[0m cmaps_continuous \u001b[38;5;241m=\u001b[39m [LinearSegmentedColormap\u001b[38;5;241m.\u001b[39mfrom_list(name\u001b[38;5;241m=\u001b[39mpal[\u001b[38;5;124m'\u001b[39m\u001b[38;5;124mpallette_camel\u001b[39m\u001b[38;5;124m'\u001b[39m]\u001b[38;5;241m+\u001b[39m\u001b[38;5;124m'\u001b[39m\u001b[38;5;124m_c\u001b[39m\u001b[38;5;124m'\u001b[39m, colors\u001b[38;5;241m=\u001b[39mpal[\u001b[38;5;124m'\u001b[39m\u001b[38;5;124mhex_colors4\u001b[39m\u001b[38;5;124m'\u001b[39m]) \u001b[38;5;28;01mfor\u001b[39;00m pal \u001b[38;5;129;01min\u001b[39;00m canva_json]\n",
      "Input \u001b[1;32mIn [74]\u001b[0m, in \u001b[0;36m<listcomp>\u001b[1;34m(.0)\u001b[0m\n\u001b[1;32m----> 1\u001b[0m cmaps_continuous \u001b[38;5;241m=\u001b[39m [\u001b[43mLinearSegmentedColormap\u001b[49m\u001b[38;5;241;43m.\u001b[39;49m\u001b[43mfrom_list\u001b[49m\u001b[43m(\u001b[49m\u001b[43mname\u001b[49m\u001b[38;5;241;43m=\u001b[39;49m\u001b[43mpal\u001b[49m\u001b[43m[\u001b[49m\u001b[38;5;124;43m'\u001b[39;49m\u001b[38;5;124;43mpallette_camel\u001b[39;49m\u001b[38;5;124;43m'\u001b[39;49m\u001b[43m]\u001b[49m\u001b[38;5;241;43m+\u001b[39;49m\u001b[38;5;124;43m'\u001b[39;49m\u001b[38;5;124;43m_c\u001b[39;49m\u001b[38;5;124;43m'\u001b[39;49m\u001b[43m,\u001b[49m\u001b[43m \u001b[49m\u001b[43mcolors\u001b[49m\u001b[38;5;241;43m=\u001b[39;49m\u001b[43mpal\u001b[49m\u001b[43m[\u001b[49m\u001b[38;5;124;43m'\u001b[39;49m\u001b[38;5;124;43mhex_colors4\u001b[39;49m\u001b[38;5;124;43m'\u001b[39;49m\u001b[43m]\u001b[49m\u001b[43m)\u001b[49m \u001b[38;5;28;01mfor\u001b[39;00m pal \u001b[38;5;129;01min\u001b[39;00m canva_json]\n",
      "File \u001b[1;32mC:\\APPS\\Anaconda3\\lib\\site-packages\\matplotlib\\colors.py:956\u001b[0m, in \u001b[0;36mLinearSegmentedColormap.from_list\u001b[1;34m(name, colors, N, gamma)\u001b[0m\n\u001b[0;32m    953\u001b[0m \u001b[38;5;28;01melse\u001b[39;00m:\n\u001b[0;32m    954\u001b[0m     vals \u001b[38;5;241m=\u001b[39m np\u001b[38;5;241m.\u001b[39mlinspace(\u001b[38;5;241m0\u001b[39m, \u001b[38;5;241m1\u001b[39m, \u001b[38;5;28mlen\u001b[39m(colors))\n\u001b[1;32m--> 956\u001b[0m r, g, b, a \u001b[38;5;241m=\u001b[39m \u001b[43mto_rgba_array\u001b[49m\u001b[43m(\u001b[49m\u001b[43mcolors\u001b[49m\u001b[43m)\u001b[49m\u001b[38;5;241m.\u001b[39mT\n\u001b[0;32m    957\u001b[0m cdict \u001b[38;5;241m=\u001b[39m {\n\u001b[0;32m    958\u001b[0m     \u001b[38;5;124m\"\u001b[39m\u001b[38;5;124mred\u001b[39m\u001b[38;5;124m\"\u001b[39m: np\u001b[38;5;241m.\u001b[39mcolumn_stack([vals, r, r]),\n\u001b[0;32m    959\u001b[0m     \u001b[38;5;124m\"\u001b[39m\u001b[38;5;124mgreen\u001b[39m\u001b[38;5;124m\"\u001b[39m: np\u001b[38;5;241m.\u001b[39mcolumn_stack([vals, g, g]),\n\u001b[0;32m    960\u001b[0m     \u001b[38;5;124m\"\u001b[39m\u001b[38;5;124mblue\u001b[39m\u001b[38;5;124m\"\u001b[39m: np\u001b[38;5;241m.\u001b[39mcolumn_stack([vals, b, b]),\n\u001b[0;32m    961\u001b[0m     \u001b[38;5;124m\"\u001b[39m\u001b[38;5;124malpha\u001b[39m\u001b[38;5;124m\"\u001b[39m: np\u001b[38;5;241m.\u001b[39mcolumn_stack([vals, a, a]),\n\u001b[0;32m    962\u001b[0m }\n\u001b[0;32m    964\u001b[0m \u001b[38;5;28;01mreturn\u001b[39;00m LinearSegmentedColormap(name, cdict, N, gamma)\n",
      "File \u001b[1;32mC:\\APPS\\Anaconda3\\lib\\site-packages\\matplotlib\\colors.py:375\u001b[0m, in \u001b[0;36mto_rgba_array\u001b[1;34m(c, alpha)\u001b[0m\n\u001b[0;32m    373\u001b[0m         rgba \u001b[38;5;241m=\u001b[39m np\u001b[38;5;241m.\u001b[39marray(c)\n\u001b[0;32m    374\u001b[0m     \u001b[38;5;28;01melse\u001b[39;00m:\n\u001b[1;32m--> 375\u001b[0m         rgba \u001b[38;5;241m=\u001b[39m np\u001b[38;5;241m.\u001b[39marray([to_rgba(cc) \u001b[38;5;28;01mfor\u001b[39;00m cc \u001b[38;5;129;01min\u001b[39;00m c])\n\u001b[0;32m    376\u001b[0m \u001b[38;5;28;01melse\u001b[39;00m:\n\u001b[0;32m    377\u001b[0m     rgba \u001b[38;5;241m=\u001b[39m np\u001b[38;5;241m.\u001b[39marray([to_rgba(cc) \u001b[38;5;28;01mfor\u001b[39;00m cc \u001b[38;5;129;01min\u001b[39;00m c])\n",
      "File \u001b[1;32mC:\\APPS\\Anaconda3\\lib\\site-packages\\matplotlib\\colors.py:375\u001b[0m, in \u001b[0;36m<listcomp>\u001b[1;34m(.0)\u001b[0m\n\u001b[0;32m    373\u001b[0m         rgba \u001b[38;5;241m=\u001b[39m np\u001b[38;5;241m.\u001b[39marray(c)\n\u001b[0;32m    374\u001b[0m     \u001b[38;5;28;01melse\u001b[39;00m:\n\u001b[1;32m--> 375\u001b[0m         rgba \u001b[38;5;241m=\u001b[39m np\u001b[38;5;241m.\u001b[39marray([\u001b[43mto_rgba\u001b[49m\u001b[43m(\u001b[49m\u001b[43mcc\u001b[49m\u001b[43m)\u001b[49m \u001b[38;5;28;01mfor\u001b[39;00m cc \u001b[38;5;129;01min\u001b[39;00m c])\n\u001b[0;32m    376\u001b[0m \u001b[38;5;28;01melse\u001b[39;00m:\n\u001b[0;32m    377\u001b[0m     rgba \u001b[38;5;241m=\u001b[39m np\u001b[38;5;241m.\u001b[39marray([to_rgba(cc) \u001b[38;5;28;01mfor\u001b[39;00m cc \u001b[38;5;129;01min\u001b[39;00m c])\n",
      "File \u001b[1;32mC:\\APPS\\Anaconda3\\lib\\site-packages\\matplotlib\\colors.py:187\u001b[0m, in \u001b[0;36mto_rgba\u001b[1;34m(c, alpha)\u001b[0m\n\u001b[0;32m    185\u001b[0m     rgba \u001b[38;5;241m=\u001b[39m \u001b[38;5;28;01mNone\u001b[39;00m\n\u001b[0;32m    186\u001b[0m \u001b[38;5;28;01mif\u001b[39;00m rgba \u001b[38;5;129;01mis\u001b[39;00m \u001b[38;5;28;01mNone\u001b[39;00m:  \u001b[38;5;66;03m# Suppress exception chaining of cache lookup failure.\u001b[39;00m\n\u001b[1;32m--> 187\u001b[0m     rgba \u001b[38;5;241m=\u001b[39m \u001b[43m_to_rgba_no_colorcycle\u001b[49m\u001b[43m(\u001b[49m\u001b[43mc\u001b[49m\u001b[43m,\u001b[49m\u001b[43m \u001b[49m\u001b[43malpha\u001b[49m\u001b[43m)\u001b[49m\n\u001b[0;32m    188\u001b[0m     \u001b[38;5;28;01mtry\u001b[39;00m:\n\u001b[0;32m    189\u001b[0m         _colors_full_map\u001b[38;5;241m.\u001b[39mcache[c, alpha] \u001b[38;5;241m=\u001b[39m rgba\n",
      "File \u001b[1;32mC:\\APPS\\Anaconda3\\lib\\site-packages\\matplotlib\\colors.py:262\u001b[0m, in \u001b[0;36m_to_rgba_no_colorcycle\u001b[1;34m(c, alpha)\u001b[0m\n\u001b[0;32m    258\u001b[0m             \u001b[38;5;28;01mraise\u001b[39;00m \u001b[38;5;167;01mValueError\u001b[39;00m(\n\u001b[0;32m    259\u001b[0m                 \u001b[38;5;124mf\u001b[39m\u001b[38;5;124m\"\u001b[39m\u001b[38;5;124mInvalid string grayscale value \u001b[39m\u001b[38;5;132;01m{\u001b[39;00morig_c\u001b[38;5;132;01m!r}\u001b[39;00m\u001b[38;5;124m. \u001b[39m\u001b[38;5;124m\"\u001b[39m\n\u001b[0;32m    260\u001b[0m                 \u001b[38;5;124mf\u001b[39m\u001b[38;5;124m\"\u001b[39m\u001b[38;5;124mValue must be within 0-1 range\u001b[39m\u001b[38;5;124m\"\u001b[39m)\n\u001b[0;32m    261\u001b[0m         \u001b[38;5;28;01mreturn\u001b[39;00m c, c, c, alpha \u001b[38;5;28;01mif\u001b[39;00m alpha \u001b[38;5;129;01mis\u001b[39;00m \u001b[38;5;129;01mnot\u001b[39;00m \u001b[38;5;28;01mNone\u001b[39;00m \u001b[38;5;28;01melse\u001b[39;00m \u001b[38;5;241m1.\u001b[39m\n\u001b[1;32m--> 262\u001b[0m     \u001b[38;5;28;01mraise\u001b[39;00m \u001b[38;5;167;01mValueError\u001b[39;00m(\u001b[38;5;124mf\u001b[39m\u001b[38;5;124m\"\u001b[39m\u001b[38;5;124mInvalid RGBA argument: \u001b[39m\u001b[38;5;132;01m{\u001b[39;00morig_c\u001b[38;5;132;01m!r}\u001b[39;00m\u001b[38;5;124m\"\u001b[39m)\n\u001b[0;32m    263\u001b[0m \u001b[38;5;66;03m# turn 2-D array into 1-D array\u001b[39;00m\n\u001b[0;32m    264\u001b[0m \u001b[38;5;28;01mif\u001b[39;00m \u001b[38;5;28misinstance\u001b[39m(c, np\u001b[38;5;241m.\u001b[39mndarray):\n",
      "\u001b[1;31mValueError\u001b[0m: Invalid RGBA argument: '#80706'"
     ]
    }
   ],
   "source": [
    "cmaps_continuous = [LinearSegmentedColormap.from_list(name=pal['pallette_camel']+'_c', colors=pal['hex_colors4']) for pal in canva_json]"
   ]
  },
  {
   "cell_type": "code",
   "execution_count": 75,
   "id": "f0a29217",
   "metadata": {},
   "outputs": [],
   "source": [
    "import pandas as pd"
   ]
  },
  {
   "cell_type": "code",
   "execution_count": 101,
   "id": "24cbbce3",
   "metadata": {},
   "outputs": [],
   "source": [
    "canva_df = pd.DataFrame(canva_json)"
   ]
  },
  {
   "cell_type": "code",
   "execution_count": 102,
   "id": "eb8a7570",
   "metadata": {},
   "outputs": [
    {
     "data": {
      "text/plain": [
       "7    594\n",
       "6      5\n",
       "8      1\n",
       "Name: hex_colors4, dtype: int64"
      ]
     },
     "execution_count": 102,
     "metadata": {},
     "output_type": "execute_result"
    }
   ],
   "source": [
    "canva_df['hex_colors4'].explode().str.len().value_counts()"
   ]
  },
  {
   "cell_type": "code",
   "execution_count": 103,
   "id": "ed28afb5",
   "metadata": {},
   "outputs": [
    {
     "data": {
      "text/html": [
       "<div>\n",
       "<style scoped>\n",
       "    .dataframe tbody tr th:only-of-type {\n",
       "        vertical-align: middle;\n",
       "    }\n",
       "\n",
       "    .dataframe tbody tr th {\n",
       "        vertical-align: top;\n",
       "    }\n",
       "\n",
       "    .dataframe thead th {\n",
       "        text-align: right;\n",
       "    }\n",
       "</style>\n",
       "<table border=\"1\" class=\"dataframe\">\n",
       "  <thead>\n",
       "    <tr style=\"text-align: right;\">\n",
       "      <th></th>\n",
       "      <th>pallette</th>\n",
       "      <th>pallette_camel</th>\n",
       "      <th>extracted_colors</th>\n",
       "      <th>hex_colors</th>\n",
       "      <th>hex_colors4</th>\n",
       "    </tr>\n",
       "  </thead>\n",
       "  <tbody>\n",
       "    <tr>\n",
       "      <th>0</th>\n",
       "      <td>1950s kitchen</td>\n",
       "      <td>1950SKitchen</td>\n",
       "      <td>[{'tag': 'dk2', 'val': '#1f497d'}, {'tag': 'lt...</td>\n",
       "      <td>[#1f497d, #eeece1, #b3dbc0, #fe0000, #fdf6f6, ...</td>\n",
       "      <td>[#b3dbc0, #fe0000, #fdf6f6, #67baca]</td>\n",
       "    </tr>\n",
       "    <tr>\n",
       "      <th>1</th>\n",
       "      <td>Antique and clean</td>\n",
       "      <td>AntiqueAndClean</td>\n",
       "      <td>[{'tag': 'dk2', 'val': '#1f497d'}, {'tag': 'lt...</td>\n",
       "      <td>[#1f497d, #eeece1, #b56357, #b4dbc0, #eae3ea, ...</td>\n",
       "      <td>[#b56357, #b4dbc0, #eae3ea, #a7b3a5]</td>\n",
       "    </tr>\n",
       "    <tr>\n",
       "      <th>2</th>\n",
       "      <td>Antique tones</td>\n",
       "      <td>AntiqueTones</td>\n",
       "      <td>[{'tag': 'dk2', 'val': '#1f497d'}, {'tag': 'lt...</td>\n",
       "      <td>[#1f497d, #eeece1, #155765, #57652a, #ab9353, ...</td>\n",
       "      <td>[#155765, #57652a, #ab9353, #4d2c3d]</td>\n",
       "    </tr>\n",
       "    <tr>\n",
       "      <th>3</th>\n",
       "      <td>Aqua blues</td>\n",
       "      <td>AquaBlues</td>\n",
       "      <td>[{'tag': 'dk2', 'val': '#1f497d'}, {'tag': 'lt...</td>\n",
       "      <td>[#1f497d, #eeece1, #004d47, #128277, #52958b, ...</td>\n",
       "      <td>[#004d47, #128277, #52958b, #b9c4c9]</td>\n",
       "    </tr>\n",
       "    <tr>\n",
       "      <th>4</th>\n",
       "      <td>Art history inspired</td>\n",
       "      <td>ArtHistoryInspired</td>\n",
       "      <td>[{'tag': 'dk2', 'val': '#1f497d'}, {'tag': 'lt...</td>\n",
       "      <td>[#1f497d, #eeece1, #ffce00, #0375b4, #007849, ...</td>\n",
       "      <td>[#ffce00, #0375b4, #007849, #262228]</td>\n",
       "    </tr>\n",
       "    <tr>\n",
       "      <th>...</th>\n",
       "      <td>...</td>\n",
       "      <td>...</td>\n",
       "      <td>...</td>\n",
       "      <td>...</td>\n",
       "      <td>...</td>\n",
       "    </tr>\n",
       "    <tr>\n",
       "      <th>145</th>\n",
       "      <td>Warm and wonderful</td>\n",
       "      <td>WarmAndWonderful</td>\n",
       "      <td>[{'tag': 'dk2', 'val': '#1f497d'}, {'tag': 'lt...</td>\n",
       "      <td>[#1f497d, #eeece1, #7cd8d5, #f53240, #f9be02, ...</td>\n",
       "      <td>[#7cd8d5, #f53240, #f9be02, #02c8a7]</td>\n",
       "    </tr>\n",
       "    <tr>\n",
       "      <th>146</th>\n",
       "      <td>Warm naturals</td>\n",
       "      <td>WarmNaturals</td>\n",
       "      <td>[{'tag': 'dk2', 'val': '#1f497d'}, {'tag': 'lt...</td>\n",
       "      <td>[#1f497d, #eeece1, #2e2300, #6e6702, #c05805, ...</td>\n",
       "      <td>[#2e2300, #6e6702, #c05805, #db9501]</td>\n",
       "    </tr>\n",
       "    <tr>\n",
       "      <th>147</th>\n",
       "      <td>Warm tones</td>\n",
       "      <td>WarmTones</td>\n",
       "      <td>[{'tag': 'dk2', 'val': '#1f497d'}, {'tag': 'lt...</td>\n",
       "      <td>[#1f497d, #eeece1, #d7cec7, #565656, #76323f, ...</td>\n",
       "      <td>[#d7cec7, #565656, #76323f, #c09f80]</td>\n",
       "    </tr>\n",
       "    <tr>\n",
       "      <th>148</th>\n",
       "      <td>Watery blue-greens</td>\n",
       "      <td>WateryBluegreens</td>\n",
       "      <td>[{'tag': 'dk2', 'val': '#1f497d'}, {'tag': 'lt...</td>\n",
       "      <td>[#1f497d, #eeece1, #021c1e, #00445, #2c7873, #...</td>\n",
       "      <td>[#021c1e, #00445, #2c7873, #6fb98f]</td>\n",
       "    </tr>\n",
       "    <tr>\n",
       "      <th>149</th>\n",
       "      <td>Wintery reds</td>\n",
       "      <td>WinteryReds</td>\n",
       "      <td>[{'tag': 'dk2', 'val': '#1f497d'}, {'tag': 'lt...</td>\n",
       "      <td>[#1f497d, #eeece1, #a10115, #d72c16, #f0efea, ...</td>\n",
       "      <td>[#a10115, #d72c16, #f0efea, #c0b2b5]</td>\n",
       "    </tr>\n",
       "  </tbody>\n",
       "</table>\n",
       "<p>150 rows × 5 columns</p>\n",
       "</div>"
      ],
      "text/plain": [
       "                 pallette      pallette_camel  \\\n",
       "0           1950s kitchen        1950SKitchen   \n",
       "1       Antique and clean     AntiqueAndClean   \n",
       "2           Antique tones        AntiqueTones   \n",
       "3              Aqua blues           AquaBlues   \n",
       "4    Art history inspired  ArtHistoryInspired   \n",
       "..                    ...                 ...   \n",
       "145    Warm and wonderful    WarmAndWonderful   \n",
       "146         Warm naturals        WarmNaturals   \n",
       "147            Warm tones           WarmTones   \n",
       "148    Watery blue-greens    WateryBluegreens   \n",
       "149          Wintery reds         WinteryReds   \n",
       "\n",
       "                                      extracted_colors  \\\n",
       "0    [{'tag': 'dk2', 'val': '#1f497d'}, {'tag': 'lt...   \n",
       "1    [{'tag': 'dk2', 'val': '#1f497d'}, {'tag': 'lt...   \n",
       "2    [{'tag': 'dk2', 'val': '#1f497d'}, {'tag': 'lt...   \n",
       "3    [{'tag': 'dk2', 'val': '#1f497d'}, {'tag': 'lt...   \n",
       "4    [{'tag': 'dk2', 'val': '#1f497d'}, {'tag': 'lt...   \n",
       "..                                                 ...   \n",
       "145  [{'tag': 'dk2', 'val': '#1f497d'}, {'tag': 'lt...   \n",
       "146  [{'tag': 'dk2', 'val': '#1f497d'}, {'tag': 'lt...   \n",
       "147  [{'tag': 'dk2', 'val': '#1f497d'}, {'tag': 'lt...   \n",
       "148  [{'tag': 'dk2', 'val': '#1f497d'}, {'tag': 'lt...   \n",
       "149  [{'tag': 'dk2', 'val': '#1f497d'}, {'tag': 'lt...   \n",
       "\n",
       "                                            hex_colors  \\\n",
       "0    [#1f497d, #eeece1, #b3dbc0, #fe0000, #fdf6f6, ...   \n",
       "1    [#1f497d, #eeece1, #b56357, #b4dbc0, #eae3ea, ...   \n",
       "2    [#1f497d, #eeece1, #155765, #57652a, #ab9353, ...   \n",
       "3    [#1f497d, #eeece1, #004d47, #128277, #52958b, ...   \n",
       "4    [#1f497d, #eeece1, #ffce00, #0375b4, #007849, ...   \n",
       "..                                                 ...   \n",
       "145  [#1f497d, #eeece1, #7cd8d5, #f53240, #f9be02, ...   \n",
       "146  [#1f497d, #eeece1, #2e2300, #6e6702, #c05805, ...   \n",
       "147  [#1f497d, #eeece1, #d7cec7, #565656, #76323f, ...   \n",
       "148  [#1f497d, #eeece1, #021c1e, #00445, #2c7873, #...   \n",
       "149  [#1f497d, #eeece1, #a10115, #d72c16, #f0efea, ...   \n",
       "\n",
       "                              hex_colors4  \n",
       "0    [#b3dbc0, #fe0000, #fdf6f6, #67baca]  \n",
       "1    [#b56357, #b4dbc0, #eae3ea, #a7b3a5]  \n",
       "2    [#155765, #57652a, #ab9353, #4d2c3d]  \n",
       "3    [#004d47, #128277, #52958b, #b9c4c9]  \n",
       "4    [#ffce00, #0375b4, #007849, #262228]  \n",
       "..                                    ...  \n",
       "145  [#7cd8d5, #f53240, #f9be02, #02c8a7]  \n",
       "146  [#2e2300, #6e6702, #c05805, #db9501]  \n",
       "147  [#d7cec7, #565656, #76323f, #c09f80]  \n",
       "148   [#021c1e, #00445, #2c7873, #6fb98f]  \n",
       "149  [#a10115, #d72c16, #f0efea, #c0b2b5]  \n",
       "\n",
       "[150 rows x 5 columns]"
      ]
     },
     "execution_count": 103,
     "metadata": {},
     "output_type": "execute_result"
    }
   ],
   "source": [
    "canva_df"
   ]
  },
  {
   "cell_type": "code",
   "execution_count": 106,
   "id": "20898ed6",
   "metadata": {},
   "outputs": [],
   "source": [
    "all_colors = canva_df[['pallette_camel','hex_colors4']].explode(column='hex_colors4')"
   ]
  },
  {
   "cell_type": "code",
   "execution_count": 108,
   "id": "df759171",
   "metadata": {},
   "outputs": [
    {
     "data": {
      "text/html": [
       "<div>\n",
       "<style scoped>\n",
       "    .dataframe tbody tr th:only-of-type {\n",
       "        vertical-align: middle;\n",
       "    }\n",
       "\n",
       "    .dataframe tbody tr th {\n",
       "        vertical-align: top;\n",
       "    }\n",
       "\n",
       "    .dataframe thead th {\n",
       "        text-align: right;\n",
       "    }\n",
       "</style>\n",
       "<table border=\"1\" class=\"dataframe\">\n",
       "  <thead>\n",
       "    <tr style=\"text-align: right;\">\n",
       "      <th></th>\n",
       "      <th>pallette_camel</th>\n",
       "      <th>hex_colors4</th>\n",
       "    </tr>\n",
       "  </thead>\n",
       "  <tbody>\n",
       "    <tr>\n",
       "      <th>27</th>\n",
       "      <td>ClassicMetallics</td>\n",
       "      <td>#80706</td>\n",
       "    </tr>\n",
       "    <tr>\n",
       "      <th>32</th>\n",
       "      <td>CleanGradientAndFreshBlues</td>\n",
       "      <td>#15249</td>\n",
       "    </tr>\n",
       "    <tr>\n",
       "      <th>67</th>\n",
       "      <td>CleanGradientAndFreshBlues</td>\n",
       "      <td>#15249</td>\n",
       "    </tr>\n",
       "    <tr>\n",
       "      <th>96</th>\n",
       "      <td>PrimaryColorsWithAVibrantTwist</td>\n",
       "      <td>#00445</td>\n",
       "    </tr>\n",
       "    <tr>\n",
       "      <th>148</th>\n",
       "      <td>WateryBluegreens</td>\n",
       "      <td>#00445</td>\n",
       "    </tr>\n",
       "  </tbody>\n",
       "</table>\n",
       "</div>"
      ],
      "text/plain": [
       "                     pallette_camel hex_colors4\n",
       "27                 ClassicMetallics      #80706\n",
       "32       CleanGradientAndFreshBlues      #15249\n",
       "67       CleanGradientAndFreshBlues      #15249\n",
       "96   PrimaryColorsWithAVibrantTwist      #00445\n",
       "148                WateryBluegreens      #00445"
      ]
     },
     "execution_count": 108,
     "metadata": {},
     "output_type": "execute_result"
    }
   ],
   "source": [
    "all_colors[all_colors['hex_colors4'].str.len()<7]"
   ]
  },
  {
   "cell_type": "code",
   "execution_count": null,
   "id": "6015c29c",
   "metadata": {},
   "outputs": [],
   "source": [
    "color_corrections = \n",
    "[{'pallette_camel': 'ClassicMetallics', 'corrections': [{'#80706': '#080706'}]}\n",
    "    \n",
    "    \n",
    "    \n",
    "]\n",
    "\n",
    "\n",
    "{'#80706': '#080706', '#15249': '#015249', '#00445':}"
   ]
  },
  {
   "cell_type": "code",
   "execution_count": 110,
   "id": "dc06397f",
   "metadata": {},
   "outputs": [
    {
     "data": {
      "text/html": [
       "<div>\n",
       "<style scoped>\n",
       "    .dataframe tbody tr th:only-of-type {\n",
       "        vertical-align: middle;\n",
       "    }\n",
       "\n",
       "    .dataframe tbody tr th {\n",
       "        vertical-align: top;\n",
       "    }\n",
       "\n",
       "    .dataframe thead th {\n",
       "        text-align: right;\n",
       "    }\n",
       "</style>\n",
       "<table border=\"1\" class=\"dataframe\">\n",
       "  <thead>\n",
       "    <tr style=\"text-align: right;\">\n",
       "      <th></th>\n",
       "      <th>pallette</th>\n",
       "      <th>pallette_camel</th>\n",
       "      <th>extracted_colors</th>\n",
       "      <th>hex_colors</th>\n",
       "      <th>hex_colors4</th>\n",
       "    </tr>\n",
       "  </thead>\n",
       "  <tbody>\n",
       "    <tr>\n",
       "      <th>32</th>\n",
       "      <td>Clean gradient and fresh blues</td>\n",
       "      <td>CleanGradientAndFreshBlues</td>\n",
       "      <td>[{'tag': 'dk2', 'val': '#1f497d'}, {'tag': 'lt...</td>\n",
       "      <td>[#1f497d, #eeece1, #77c9d4, #57bc90, #15249, #...</td>\n",
       "      <td>[#77c9d4, #57bc90, #15249, #a5a5af]</td>\n",
       "    </tr>\n",
       "    <tr>\n",
       "      <th>67</th>\n",
       "      <td>Clean gradient and fresh blues</td>\n",
       "      <td>CleanGradientAndFreshBlues</td>\n",
       "      <td>[{'tag': 'dk2', 'val': '#1f497d'}, {'tag': 'lt...</td>\n",
       "      <td>[#1f497d, #eeece1, #77c9d4, #57bc90, #15249, #...</td>\n",
       "      <td>[#77c9d4, #57bc90, #15249, #a5a5af]</td>\n",
       "    </tr>\n",
       "  </tbody>\n",
       "</table>\n",
       "</div>"
      ],
      "text/plain": [
       "                          pallette              pallette_camel  \\\n",
       "32  Clean gradient and fresh blues  CleanGradientAndFreshBlues   \n",
       "67  Clean gradient and fresh blues  CleanGradientAndFreshBlues   \n",
       "\n",
       "                                     extracted_colors  \\\n",
       "32  [{'tag': 'dk2', 'val': '#1f497d'}, {'tag': 'lt...   \n",
       "67  [{'tag': 'dk2', 'val': '#1f497d'}, {'tag': 'lt...   \n",
       "\n",
       "                                           hex_colors  \\\n",
       "32  [#1f497d, #eeece1, #77c9d4, #57bc90, #15249, #...   \n",
       "67  [#1f497d, #eeece1, #77c9d4, #57bc90, #15249, #...   \n",
       "\n",
       "                            hex_colors4  \n",
       "32  [#77c9d4, #57bc90, #15249, #a5a5af]  \n",
       "67  [#77c9d4, #57bc90, #15249, #a5a5af]  "
      ]
     },
     "execution_count": 110,
     "metadata": {},
     "output_type": "execute_result"
    }
   ],
   "source": [
    "canva_df.query('pallette_camel == \"CleanGradientAndFreshBlues\"')"
   ]
  },
  {
   "cell_type": "code",
   "execution_count": 73,
   "id": "ae3af4c9",
   "metadata": {},
   "outputs": [
    {
     "data": {
      "image/png": "[encoded data removed]",
      "text/html": [
       "<div style=\"vertical-align: middle;\"><strong>AquaBlues_d</strong> </div><div class=\"cmap\"><img alt=\"AquaBlues_d colormap\" title=\"AquaBlues_d\" style=\"border: 1px solid #555;\" src=\"data:image/png;base64,iVBORw0KGgoAAAANSUhEUgAAAgAAAABACAYAAABsv8+/AAAAGnRFWHRUaXRsZQBBcXVhQmx1ZXNfZCBjb2xvcm1hcJssRX0AAAAgdEVYdERlc2NyaXB0aW9uAEFxdWFCbHVlc19kIGNvbG9ybWFwCjIBKwAAADB0RVh0QXV0aG9yAE1hdHBsb3RsaWIgdjMuNS4yLCBodHRwczovL21hdHBsb3RsaWIub3Jnwlp4nAAAADJ0RVh0U29mdHdhcmUATWF0cGxvdGxpYiB2My41LjIsIGh0dHBzOi8vbWF0cGxvdGxpYi5vcmfs/Oe7AAABQklEQVR4nO3WMRXCABTAwFIJFB9lYeV164QO/CsAF/1D7hRkzG35nL+FrPvrOZ3AoGN7TCcw6Lu/pxMYtE4HAADXMwAAEGQAACDIAABAkAEAgCADAABBBgAAggwAAAQZAAAIMgAAEGQAACDIAABAkAEAgCADAABBBgAAggwAAAQZAAAIMgAAEGQAACDIAABAkAEAgCADAABBBgAAggwAAAQZAAAIMgAAEGQAACDIAABAkAEAgCADAABBBgAAggwAAAQZAAAIMgAAEGQAACDIAABAkAEAgCADAABBBgAAggwAAAQZAAAIMgAAEGQAACDIAABAkAEAgCADAABBBgAAggwAAAQZAAAIMgAAEGQAACDIAABAkAEAgCADAABBBgAAggwAAAQZAAAIMgAAEGQAACDIAABAkAEAgCADAABBBgAAgv7AMwPFmMRTXgAAAABJRU5ErkJggg==\"></div><div style=\"vertical-align: middle; max-width: 514px; display: flex; justify-content: space-between;\"><div style=\"float: left;\"><div title=\"#004d47ff\" style=\"display: inline-block; width: 1em; height: 1em; margin: 0; vertical-align: middle; border: 1px solid #555; background-color: #004d47ff;\"></div> under</div><div style=\"margin: 0 auto; display: inline-block;\">bad <div title=\"#00000000\" style=\"display: inline-block; width: 1em; height: 1em; margin: 0; vertical-align: middle; border: 1px solid #555; background-color: #00000000;\"></div></div><div style=\"float: right;\">over <div title=\"#b9c4c9ff\" style=\"display: inline-block; width: 1em; height: 1em; margin: 0; vertical-align: middle; border: 1px solid #555; background-color: #b9c4c9ff;\"></div></div>"
      ],
      "text/plain": [
       "<matplotlib.colors.ListedColormap at 0x220dc6599a0>"
      ]
     },
     "execution_count": 73,
     "metadata": {},
     "output_type": "execute_result"
    }
   ],
   "source": [
    "cmaps_discrete[3]"
   ]
  },
  {
   "cell_type": "markdown",
   "id": "19aaf4df",
   "metadata": {},
   "source": [
    "___"
   ]
  }
 ],
 "metadata": {
  "hide_input": false,
  "kernelspec": {
   "display_name": "Python 3 (ipykernel)",
   "language": "python",
   "name": "python3"
  },
  "language_info": {
   "codemirror_mode": {
    "name": "ipython",
    "version": 3
   },
   "file_extension": ".py",
   "mimetype": "text/x-python",
   "name": "python",
   "nbconvert_exporter": "python",
   "pygments_lexer": "ipython3",
   "version": "3.8.10"
  }
 },
 "nbformat": 4,
 "nbformat_minor": 5
}
